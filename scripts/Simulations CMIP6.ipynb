{
 "cells": [
  {
   "cell_type": "markdown",
   "id": "475c3416",
   "metadata": {},
   "source": [
    "# Work related to the simulations\n",
    "This messy notebook contains the code to find all available realizations. The extraction is done outside in `extract_cmip6.py`. Then the PCA+KKZ selection is done here.\n",
    "\n",
    "Here again, paths have been removed. `datadir` is where all data is saved. "
   ]
  },
  {
   "cell_type": "code",
   "execution_count": 1,
   "id": "49d1cb1e",
   "metadata": {},
   "outputs": [
    {
     "name": "stdout",
     "output_type": "stream",
     "text": [
      "2022-01-31 12:42:51,633 - xclim - INFO - Matplotlib installed. Setting make_graph to True.\n"
     ]
    },
    {
     "data": {
      "text/plain": [
       "<dask.config.set at 0x7fc94ae239a0>"
      ]
     },
     "execution_count": 1,
     "metadata": {},
     "output_type": "execute_result"
    }
   ],
   "source": [
    "import intake\n",
    "import json\n",
    "import pandas as pd\n",
    "from pathlib import Path\n",
    "import geopandas as gpd\n",
    "\n",
    "import dask\n",
    "from dask.distributed import Client\n",
    "from dask.diagnostics import ProgressBar\n",
    "\n",
    "from clisops.core.subset import subset_gridpoint\n",
    "import numpy as np\n",
    "import xarray as xr\n",
    "import xclim as xc\n",
    "from xclim import ensembles as xce\n",
    "\n",
    "import matplotlib.pyplot as plt\n",
    "import matplotlib as mpl\n",
    "xc.set_options(cf_compliance='log')\n",
    "# pd.set_option('display.max_rows', None)\n",
    "dask.config.set(**{'array.slicing.split_large_chunks': False})"
   ]
  },
  {
   "cell_type": "markdown",
   "id": "0737d585",
   "metadata": {},
   "source": [
    "# Création du catalogue"
   ]
  },
  {
   "cell_type": "code",
   "execution_count": 12,
   "id": "c8047fe1",
   "metadata": {},
   "outputs": [
    {
     "data": {
      "text/html": [
       "<p><strong>pangeo-cmip6 catalog with 7780 dataset(s) from 522217 asset(s)</strong>:</p> <div>\n",
       "<style scoped>\n",
       "    .dataframe tbody tr th:only-of-type {\n",
       "        vertical-align: middle;\n",
       "    }\n",
       "\n",
       "    .dataframe tbody tr th {\n",
       "        vertical-align: top;\n",
       "    }\n",
       "\n",
       "    .dataframe thead th {\n",
       "        text-align: right;\n",
       "    }\n",
       "</style>\n",
       "<table border=\"1\" class=\"dataframe\">\n",
       "  <thead>\n",
       "    <tr style=\"text-align: right;\">\n",
       "      <th></th>\n",
       "      <th>unique</th>\n",
       "    </tr>\n",
       "  </thead>\n",
       "  <tbody>\n",
       "    <tr>\n",
       "      <th>activity_id</th>\n",
       "      <td>18</td>\n",
       "    </tr>\n",
       "    <tr>\n",
       "      <th>institution_id</th>\n",
       "      <td>36</td>\n",
       "    </tr>\n",
       "    <tr>\n",
       "      <th>source_id</th>\n",
       "      <td>88</td>\n",
       "    </tr>\n",
       "    <tr>\n",
       "      <th>experiment_id</th>\n",
       "      <td>170</td>\n",
       "    </tr>\n",
       "    <tr>\n",
       "      <th>member_id</th>\n",
       "      <td>657</td>\n",
       "    </tr>\n",
       "    <tr>\n",
       "      <th>table_id</th>\n",
       "      <td>37</td>\n",
       "    </tr>\n",
       "    <tr>\n",
       "      <th>variable_id</th>\n",
       "      <td>709</td>\n",
       "    </tr>\n",
       "    <tr>\n",
       "      <th>grid_label</th>\n",
       "      <td>10</td>\n",
       "    </tr>\n",
       "    <tr>\n",
       "      <th>zstore</th>\n",
       "      <td>522217</td>\n",
       "    </tr>\n",
       "    <tr>\n",
       "      <th>dcpp_init_year</th>\n",
       "      <td>60</td>\n",
       "    </tr>\n",
       "    <tr>\n",
       "      <th>version</th>\n",
       "      <td>744</td>\n",
       "    </tr>\n",
       "    <tr>\n",
       "      <th>derived_variable_id</th>\n",
       "      <td>0</td>\n",
       "    </tr>\n",
       "  </tbody>\n",
       "</table>\n",
       "</div>"
      ],
      "text/plain": [
       "<IPython.core.display.HTML object>"
      ]
     },
     "metadata": {},
     "output_type": "display_data"
    }
   ],
   "source": [
    "catalog = intake.open_esm_datastore(\"https://cmip6-pds.s3.amazonaws.com/pangeo-cmip6.json\")\n",
    "catalog"
   ]
  },
  {
   "cell_type": "code",
   "execution_count": 13,
   "id": "9e2c49d0",
   "metadata": {},
   "outputs": [],
   "source": [
    "#catalog = intake.open_esm_datastore(\"https://storage.googleapis.com/cmip6/pangeo-cmip6.json\")\n",
    "catalog.df['memb_name'] = catalog.df.apply(lambda row: f\"{row.institution_id}_{row.source_id}_{row.member_id}\", axis=1)\n",
    "catalog.df['ds_name'] = catalog.df.apply(lambda row: f\"{row.institution_id}_{row.source_id}_{row.experiment_id}\", axis=1)"
   ]
  },
  {
   "cell_type": "code",
   "execution_count": 14,
   "id": "6d69cbde",
   "metadata": {},
   "outputs": [],
   "source": [
    "comptes = {}\n",
    "catalogues = {}\n",
    "grids = ['gn', 'gr', 'gr1', 'gr2']\n",
    "for ssp in ['historical', 'ssp245', 'ssp370', 'ssp585']:\n",
    "    query_o = dict(\n",
    "        variable_id=['tasmax', 'tasmin', 'pr'],\n",
    "        grid_label=grids,\n",
    "        table_id='day',\n",
    "        experiment_id=ssp\n",
    "    )\n",
    "    catsub = catalog.search(**query_o)\n",
    "\n",
    "    names = {}\n",
    "    for g in grids:\n",
    "        cs = catsub.search(grid_label=g)\n",
    "        ns = cs.df.groupby('memb_name').count().variable_id\n",
    "        names[g] = set(ns[ns >= 3].index)\n",
    "\n",
    "    for i, g in enumerate(grids[1:], 1):\n",
    "        for better_g in grids[:i]:\n",
    "            names[g] = names[g] - names[better_g]\n",
    "\n",
    "    queries = [{'grid_label': g, 'memb_name': names[g]} for g in grids]\n",
    "    cat = pd.concat([catsub.search(**query).df for query in queries])\n",
    "    cat = intake.open_esm_datastore({'esmcat': catsub.esmcat, 'df': cat})\n",
    "    catalogues[ssp] = cat"
   ]
  },
  {
   "cell_type": "code",
   "execution_count": 15,
   "id": "d64b4db7",
   "metadata": {},
   "outputs": [
    {
     "data": {
      "text/html": [
       "<p><strong>pangeo-cmip6 catalog with 36 dataset(s) from 1221 asset(s)</strong>:</p> <div>\n",
       "<style scoped>\n",
       "    .dataframe tbody tr th:only-of-type {\n",
       "        vertical-align: middle;\n",
       "    }\n",
       "\n",
       "    .dataframe tbody tr th {\n",
       "        vertical-align: top;\n",
       "    }\n",
       "\n",
       "    .dataframe thead th {\n",
       "        text-align: right;\n",
       "    }\n",
       "</style>\n",
       "<table border=\"1\" class=\"dataframe\">\n",
       "  <thead>\n",
       "    <tr style=\"text-align: right;\">\n",
       "      <th></th>\n",
       "      <th>unique</th>\n",
       "    </tr>\n",
       "  </thead>\n",
       "  <tbody>\n",
       "    <tr>\n",
       "      <th>activity_id</th>\n",
       "      <td>1</td>\n",
       "    </tr>\n",
       "    <tr>\n",
       "      <th>institution_id</th>\n",
       "      <td>22</td>\n",
       "    </tr>\n",
       "    <tr>\n",
       "      <th>source_id</th>\n",
       "      <td>36</td>\n",
       "    </tr>\n",
       "    <tr>\n",
       "      <th>experiment_id</th>\n",
       "      <td>1</td>\n",
       "    </tr>\n",
       "    <tr>\n",
       "      <th>member_id</th>\n",
       "      <td>156</td>\n",
       "    </tr>\n",
       "    <tr>\n",
       "      <th>table_id</th>\n",
       "      <td>1</td>\n",
       "    </tr>\n",
       "    <tr>\n",
       "      <th>variable_id</th>\n",
       "      <td>3</td>\n",
       "    </tr>\n",
       "    <tr>\n",
       "      <th>grid_label</th>\n",
       "      <td>3</td>\n",
       "    </tr>\n",
       "    <tr>\n",
       "      <th>zstore</th>\n",
       "      <td>1221</td>\n",
       "    </tr>\n",
       "    <tr>\n",
       "      <th>dcpp_init_year</th>\n",
       "      <td>0</td>\n",
       "    </tr>\n",
       "    <tr>\n",
       "      <th>version</th>\n",
       "      <td>97</td>\n",
       "    </tr>\n",
       "    <tr>\n",
       "      <th>memb_name</th>\n",
       "      <td>407</td>\n",
       "    </tr>\n",
       "    <tr>\n",
       "      <th>ds_name</th>\n",
       "      <td>36</td>\n",
       "    </tr>\n",
       "    <tr>\n",
       "      <th>derived_variable_id</th>\n",
       "      <td>0</td>\n",
       "    </tr>\n",
       "  </tbody>\n",
       "</table>\n",
       "</div>"
      ],
      "text/plain": [
       "<IPython.core.display.HTML object>"
      ]
     },
     "metadata": {},
     "output_type": "display_data"
    }
   ],
   "source": [
    "catalogues['historical']"
   ]
  },
  {
   "cell_type": "code",
   "execution_count": 16,
   "id": "6b21fd10",
   "metadata": {},
   "outputs": [],
   "source": [
    "names = {ssp: set(catalogues[ssp].df.memb_name.unique()) for ssp in catalogues.keys()}\n",
    "\n",
    "common585 = names['historical'].intersection(names['ssp245']).intersection(names['ssp585'])\n",
    "cat = pd.concat([catalogues[ssp].search(memb_name=common585).df for ssp in set(catalogues.keys()) - {'ssp370', 'ssp245+370'}])\n",
    "cat245585= intake.open_esm_datastore({'df': cat, 'esmcat': catalog.esmcat})"
   ]
  },
  {
   "cell_type": "code",
   "execution_count": 17,
   "id": "88e399d7",
   "metadata": {},
   "outputs": [
    {
     "name": "stdout",
     "output_type": "stream",
     "text": [
      "SSPs 2 4.5 and 5 8.5: 26 models and 78 realizations\n"
     ]
    }
   ],
   "source": [
    "c = cat245585.nunique()\n",
    "print('SSPs 2 4.5 and 5 8.5:', c.loc['source_id'], 'models and', c.loc['ds_name'], 'realizations')"
   ]
  },
  {
   "cell_type": "code",
   "execution_count": 14,
   "id": "3f6ab313",
   "metadata": {},
   "outputs": [],
   "source": [
    "catalogues['ssp245+370'].df.to_csv('cat_245_370.csv')\n",
    "catalogues['ssp245+585'].df.to_csv('cat_245_585.csv')\n",
    "with open('esmcol_data.json', 'w') as f:\n",
    "    json.dump(catalog.esmcol_data, f)"
   ]
  },
  {
   "cell_type": "markdown",
   "id": "70763918",
   "metadata": {},
   "source": [
    "# Traitement des simulations récalcitrantes\n",
    "\n",
    "EC-Earth a été extrait avec `extract_ec-earth.py`, copie du script `extract_cmip6.py` mais avec des contournements pour quelques simulations qui gossent.\n",
    "\n",
    "Ici on fusionne les membres."
   ]
  },
  {
   "cell_type": "code",
   "execution_count": 38,
   "id": "e8fda0a8",
   "metadata": {},
   "outputs": [],
   "source": [
    "ref = xr.open_dataset('/datadir/simulations/raw/EC-Earth-Consortium_EC-Earth3/r131i1p1f1_historical.nc')"
   ]
  },
  {
   "cell_type": "code",
   "execution_count": 39,
   "id": "e69f7fb9",
   "metadata": {},
   "outputs": [],
   "source": [
    "dss = {}\n",
    "for ssp in ['ssp245', 'ssp370', 'ssp585']:\n",
    "    dss[ssp] = xr.open_mfdataset(f'/datadir/simulations/raw/EC-Earth-Consortium_EC-Earth3/*_{ssp}.nc')"
   ]
  },
  {
   "cell_type": "code",
   "execution_count": 42,
   "id": "099c19a8",
   "metadata": {},
   "outputs": [],
   "source": [
    "hists = [xr.open_dataset(p).sel(time=slice('1970', '2014')).reindex(time=ref.time, method='ffill')\n",
    "         for p in Path('/datadir/simulations/raw/EC-Earth-Consortium_EC-Earth3/').glob('*_historical.nc')]\n",
    "dss['historical'] = xr.concat(hists, 'member_id')"
   ]
  },
  {
   "cell_type": "code",
   "execution_count": 51,
   "id": "1c452803",
   "metadata": {},
   "outputs": [],
   "source": [
    "for ssp in ['ssp245', 'ssp370', 'ssp585']:\n",
    "    ds = xr.concat([dss['historical'], dss[ssp]], 'time')\n",
    "    ds = ds.chunk({'member_id': 1, 'time': -1})\n",
    "    ds.to_zarr(f'/datadir/simulations/raw/EC-Earth-Consortium_EC-Earth3_{ssp}.zarr')"
   ]
  },
  {
   "cell_type": "markdown",
   "id": "efe07857",
   "metadata": {},
   "source": [
    "# Choix des simulations\n",
    "\n",
    "On veut 1 réalisation par paire de modèle/institution.\n",
    "\n",
    "PCA sur les indices + KKZ récursif"
   ]
  },
  {
   "cell_type": "code",
   "execution_count": 2,
   "id": "b40a9235",
   "metadata": {},
   "outputs": [],
   "source": [
    "root = Path('/datadir/simulations/raw_ind/')\n",
    "def construct_ensemble(ssp):\n",
    "    reals = []\n",
    "    for p in root.glob(f'*_{ssp}.zarr'):\n",
    "        print(p.stem)\n",
    "        ds = xr.open_zarr(p).sel(time=slice('1991', None))\n",
    "        if ds.member_id.size == 0:\n",
    "            print('woups')\n",
    "            continue\n",
    "        deltas = ds.sel(time=slice('2071', '2100')).mean('time') - ds.sel(time=slice('1991', '2020')).mean('time')\n",
    "        crit = deltas.mean('site')\n",
    "        mod = p.stem[5:-7]\n",
    "        crit['member_id'] = [f\"{mod}_{mid.item()}\" for mid in crit.member_id]\n",
    "        crit = crit.rename(member_id='realization')\n",
    "        reals.append(crit)\n",
    "    return xr.concat(reals, 'realization')"
   ]
  },
  {
   "cell_type": "code",
   "execution_count": 3,
   "id": "1106c3ed",
   "metadata": {
    "scrolled": true
   },
   "outputs": [
    {
     "name": "stdout",
     "output_type": "stream",
     "text": [
      "year_CNRM-CERFACS_CNRM-ESM2-1_ssp245\n",
      "year_EC-Earth-Consortium_EC-Earth3-Veg-LR_ssp245\n",
      "year_INM_INM-CM4-8_ssp245\n",
      "year_NIMS-KMA_KACE-1-0-G_ssp245\n",
      "year_CAS_FGOALS-g3_ssp245\n",
      "year_BCC_BCC-CSM2-MR_ssp245\n",
      "year_NCC_NorESM2-LM_ssp245\n",
      "year_NUIST_NESM3_ssp245\n",
      "year_CNRM-CERFACS_CNRM-CM6-1_ssp245\n",
      "year_INM_INM-CM5-0_ssp245\n",
      "year_CMCC_CMCC-ESM2_ssp245\n",
      "year_MIROC_MIROC-ES2L_ssp245\n",
      "year_AS-RCEC_TaiESM1_ssp245\n",
      "year_CCCma_CanESM5_ssp245\n",
      "year_NOAA-GFDL_GFDL-CM4_ssp245\n",
      "year_MPI-M_MPI-ESM1-2-LR_ssp245\n",
      "year_CSIRO_ACCESS-ESM1-5_ssp245\n",
      "year_IPSL_IPSL-CM6A-LR_ssp245\n",
      "year_MIROC_MIROC6_ssp245\n",
      "year_NCC_NorESM2-MM_ssp245\n",
      "year_CSIRO-ARCCSS_ACCESS-CM2_ssp245\n",
      "year_EC-Earth-Consortium_EC-Earth3-CC_ssp245\n",
      "year_NOAA-GFDL_GFDL-ESM4_ssp245\n",
      "year_KIOST_KIOST-ESM_ssp245\n",
      "year_MRI_MRI-ESM2-0_ssp245\n",
      "year_EC-Earth-Consortium_EC-Earth3-Veg_ssp245\n",
      "year_EC-Earth-Consortium_EC-Earth3_ssp245\n",
      "[######################                  ] | 56% Completed | 37.8s"
     ]
    },
    {
     "name": "stderr",
     "output_type": "stream",
     "text": [
      "/exec/pbourg/.conda/analog/lib/python3.9/site-packages/dask/utils.py:35: RuntimeWarning: All-NaN slice encountered\n",
      "  return func(*args, **kwargs)\n",
      "/exec/pbourg/.conda/analog/lib/python3.9/site-packages/dask/core.py:121: RuntimeWarning: All-NaN slice encountered\n",
      "  return func(*(_execute_task(a, cache) for a in args))\n"
     ]
    },
    {
     "name": "stdout",
     "output_type": "stream",
     "text": [
      "[###########################             ] | 68% Completed | 45.7s"
     ]
    },
    {
     "name": "stderr",
     "output_type": "stream",
     "text": [
      "/exec/pbourg/.conda/analog/lib/python3.9/site-packages/dask/array/numpy_compat.py:39: RuntimeWarning: invalid value encountered in true_divide\n",
      "  x = np.divide(x1, x2, out)\n"
     ]
    },
    {
     "name": "stdout",
     "output_type": "stream",
     "text": [
      "[########################################] | 100% Completed |  1min  5.2s\n",
      "[######################                  ] | 56% Completed | 37.5s"
     ]
    },
    {
     "name": "stderr",
     "output_type": "stream",
     "text": [
      "/exec/pbourg/.conda/analog/lib/python3.9/site-packages/dask/utils.py:35: RuntimeWarning: All-NaN slice encountered\n",
      "  return func(*args, **kwargs)\n",
      "/exec/pbourg/.conda/analog/lib/python3.9/site-packages/dask/core.py:121: RuntimeWarning: All-NaN slice encountered\n",
      "  return func(*(_execute_task(a, cache) for a in args))\n"
     ]
    },
    {
     "name": "stdout",
     "output_type": "stream",
     "text": [
      "[###########################             ] | 68% Completed | 45.8s"
     ]
    },
    {
     "name": "stderr",
     "output_type": "stream",
     "text": [
      "/exec/pbourg/.conda/analog/lib/python3.9/site-packages/dask/array/numpy_compat.py:39: RuntimeWarning: invalid value encountered in true_divide\n",
      "  x = np.divide(x1, x2, out)\n"
     ]
    },
    {
     "name": "stdout",
     "output_type": "stream",
     "text": [
      "[########################################] | 100% Completed |  1min  4.9s\n",
      "[###                                     ] | 8% Completed |  6.8s"
     ]
    },
    {
     "name": "stderr",
     "output_type": "stream",
     "text": [
      "/exec/pbourg/.conda/analog/lib/python3.9/site-packages/dask/array/numpy_compat.py:39: RuntimeWarning: invalid value encountered in true_divide\n",
      "  x = np.divide(x1, x2, out)\n"
     ]
    },
    {
     "name": "stdout",
     "output_type": "stream",
     "text": [
      "[#####                                   ] | 13% Completed | 10.3s"
     ]
    },
    {
     "name": "stderr",
     "output_type": "stream",
     "text": [
      "/exec/pbourg/.conda/analog/lib/python3.9/site-packages/dask/utils.py:35: RuntimeWarning: All-NaN slice encountered\n",
      "  return func(*args, **kwargs)\n",
      "/exec/pbourg/.conda/analog/lib/python3.9/site-packages/dask/core.py:121: RuntimeWarning: All-NaN slice encountered\n",
      "  return func(*(_execute_task(a, cache) for a in args))\n"
     ]
    },
    {
     "name": "stdout",
     "output_type": "stream",
     "text": [
      "[########################################] | 100% Completed |  1min  6.5s\n",
      "[##############                          ] | 36% Completed | 25.0s"
     ]
    },
    {
     "name": "stderr",
     "output_type": "stream",
     "text": [
      "/exec/pbourg/.conda/analog/lib/python3.9/site-packages/dask/utils.py:35: RuntimeWarning: All-NaN slice encountered\n",
      "  return func(*args, **kwargs)\n",
      "/exec/pbourg/.conda/analog/lib/python3.9/site-packages/dask/core.py:121: RuntimeWarning: All-NaN slice encountered\n",
      "  return func(*(_execute_task(a, cache) for a in args))\n"
     ]
    },
    {
     "name": "stdout",
     "output_type": "stream",
     "text": [
      "[##################                      ] | 46% Completed | 31.9s"
     ]
    },
    {
     "name": "stderr",
     "output_type": "stream",
     "text": [
      "/exec/pbourg/.conda/analog/lib/python3.9/site-packages/dask/array/numpy_compat.py:39: RuntimeWarning: invalid value encountered in true_divide\n",
      "  x = np.divide(x1, x2, out)\n"
     ]
    },
    {
     "name": "stdout",
     "output_type": "stream",
     "text": [
      "[########################################] | 100% Completed |  1min  6.8s\n",
      "[########################################] | 100% Completed |  1min  4.3s\n",
      "[######################                  ] | 56% Completed | 36.1s"
     ]
    },
    {
     "name": "stderr",
     "output_type": "stream",
     "text": [
      "/exec/pbourg/.conda/analog/lib/python3.9/site-packages/dask/utils.py:35: RuntimeWarning: All-NaN slice encountered\n",
      "  return func(*args, **kwargs)\n",
      "/exec/pbourg/.conda/analog/lib/python3.9/site-packages/dask/core.py:121: RuntimeWarning: All-NaN slice encountered\n",
      "  return func(*(_execute_task(a, cache) for a in args))\n"
     ]
    },
    {
     "name": "stdout",
     "output_type": "stream",
     "text": [
      "[###########################             ] | 68% Completed | 43.9s"
     ]
    },
    {
     "name": "stderr",
     "output_type": "stream",
     "text": [
      "/exec/pbourg/.conda/analog/lib/python3.9/site-packages/dask/array/numpy_compat.py:39: RuntimeWarning: invalid value encountered in true_divide\n",
      "  x = np.divide(x1, x2, out)\n"
     ]
    },
    {
     "name": "stdout",
     "output_type": "stream",
     "text": [
      "[########################################] | 100% Completed |  1min  1.8s\n",
      "[##                                      ] | 6% Completed |  5.2s"
     ]
    },
    {
     "name": "stderr",
     "output_type": "stream",
     "text": [
      "/exec/pbourg/.conda/analog/lib/python3.9/site-packages/dask/utils.py:35: RuntimeWarning: All-NaN slice encountered\n",
      "  return func(*args, **kwargs)\n",
      "/exec/pbourg/.conda/analog/lib/python3.9/site-packages/dask/core.py:121: RuntimeWarning: All-NaN slice encountered\n",
      "  return func(*(_execute_task(a, cache) for a in args))\n"
     ]
    },
    {
     "name": "stdout",
     "output_type": "stream",
     "text": [
      "[###                                     ] | 8% Completed |  6.1s"
     ]
    },
    {
     "name": "stderr",
     "output_type": "stream",
     "text": [
      "/exec/pbourg/.conda/analog/lib/python3.9/site-packages/dask/array/numpy_compat.py:39: RuntimeWarning: invalid value encountered in true_divide\n",
      "  x = np.divide(x1, x2, out)\n"
     ]
    },
    {
     "name": "stdout",
     "output_type": "stream",
     "text": [
      "[########################################] | 100% Completed | 59.3s\n",
      "[##################                      ] | 45% Completed | 28.5s"
     ]
    },
    {
     "name": "stderr",
     "output_type": "stream",
     "text": [
      "/exec/pbourg/.conda/analog/lib/python3.9/site-packages/dask/utils.py:35: RuntimeWarning: All-NaN slice encountered\n",
      "  return func(*args, **kwargs)\n",
      "/exec/pbourg/.conda/analog/lib/python3.9/site-packages/dask/core.py:121: RuntimeWarning: All-NaN slice encountered\n",
      "  return func(*(_execute_task(a, cache) for a in args))\n"
     ]
    },
    {
     "name": "stdout",
     "output_type": "stream",
     "text": [
      "[#######################                 ] | 57% Completed | 36.1s"
     ]
    },
    {
     "name": "stderr",
     "output_type": "stream",
     "text": [
      "/exec/pbourg/.conda/analog/lib/python3.9/site-packages/dask/array/numpy_compat.py:39: RuntimeWarning: invalid value encountered in true_divide\n",
      "  x = np.divide(x1, x2, out)\n"
     ]
    },
    {
     "name": "stdout",
     "output_type": "stream",
     "text": [
      "[########################################] | 100% Completed |  1min  0.5s\n",
      "[########################################] | 100% Completed | 59.5s\n",
      "[######################                  ] | 56% Completed | 32.2s"
     ]
    },
    {
     "name": "stderr",
     "output_type": "stream",
     "text": [
      "/exec/pbourg/.conda/analog/lib/python3.9/site-packages/dask/utils.py:35: RuntimeWarning: All-NaN slice encountered\n",
      "  return func(*args, **kwargs)\n",
      "/exec/pbourg/.conda/analog/lib/python3.9/site-packages/dask/core.py:121: RuntimeWarning: All-NaN slice encountered\n",
      "  return func(*(_execute_task(a, cache) for a in args))\n"
     ]
    },
    {
     "name": "stdout",
     "output_type": "stream",
     "text": [
      "[###########################             ] | 68% Completed | 39.2s"
     ]
    },
    {
     "name": "stderr",
     "output_type": "stream",
     "text": [
      "/exec/pbourg/.conda/analog/lib/python3.9/site-packages/dask/array/numpy_compat.py:39: RuntimeWarning: invalid value encountered in true_divide\n",
      "  x = np.divide(x1, x2, out)\n"
     ]
    },
    {
     "name": "stdout",
     "output_type": "stream",
     "text": [
      "[########################################] | 100% Completed | 56.6s\n",
      "[##                                      ] | 6% Completed |  6.4s"
     ]
    },
    {
     "name": "stderr",
     "output_type": "stream",
     "text": [
      "/exec/pbourg/.conda/analog/lib/python3.9/site-packages/dask/utils.py:35: RuntimeWarning: All-NaN slice encountered\n",
      "  return func(*args, **kwargs)\n",
      "/exec/pbourg/.conda/analog/lib/python3.9/site-packages/dask/core.py:121: RuntimeWarning: All-NaN slice encountered\n",
      "  return func(*(_execute_task(a, cache) for a in args))\n"
     ]
    },
    {
     "name": "stdout",
     "output_type": "stream",
     "text": [
      "[###                                     ] | 8% Completed |  7.3s"
     ]
    },
    {
     "name": "stderr",
     "output_type": "stream",
     "text": [
      "/exec/pbourg/.conda/analog/lib/python3.9/site-packages/dask/array/numpy_compat.py:39: RuntimeWarning: invalid value encountered in true_divide\n",
      "  x = np.divide(x1, x2, out)\n"
     ]
    },
    {
     "name": "stdout",
     "output_type": "stream",
     "text": [
      "[########################################] | 100% Completed | 58.5s\n",
      "[##############                          ] | 36% Completed | 22.6s"
     ]
    },
    {
     "name": "stderr",
     "output_type": "stream",
     "text": [
      "/exec/pbourg/.conda/analog/lib/python3.9/site-packages/dask/utils.py:35: RuntimeWarning: All-NaN slice encountered\n",
      "  return func(*args, **kwargs)\n",
      "/exec/pbourg/.conda/analog/lib/python3.9/site-packages/dask/core.py:121: RuntimeWarning: All-NaN slice encountered\n",
      "  return func(*(_execute_task(a, cache) for a in args))\n"
     ]
    },
    {
     "name": "stdout",
     "output_type": "stream",
     "text": [
      "[##################                      ] | 46% Completed | 28.7s"
     ]
    },
    {
     "name": "stderr",
     "output_type": "stream",
     "text": [
      "/exec/pbourg/.conda/analog/lib/python3.9/site-packages/dask/array/numpy_compat.py:39: RuntimeWarning: invalid value encountered in true_divide\n",
      "  x = np.divide(x1, x2, out)\n"
     ]
    },
    {
     "name": "stdout",
     "output_type": "stream",
     "text": [
      "[########################################] | 100% Completed | 58.2s\n",
      "[########################################] | 100% Completed |  1min  1.0s\n",
      "[######################                  ] | 56% Completed | 34.3s"
     ]
    },
    {
     "name": "stderr",
     "output_type": "stream",
     "text": [
      "/exec/pbourg/.conda/analog/lib/python3.9/site-packages/dask/utils.py:35: RuntimeWarning: All-NaN slice encountered\n",
      "  return func(*args, **kwargs)\n",
      "/exec/pbourg/.conda/analog/lib/python3.9/site-packages/dask/core.py:121: RuntimeWarning: All-NaN slice encountered\n",
      "  return func(*(_execute_task(a, cache) for a in args))\n"
     ]
    },
    {
     "name": "stdout",
     "output_type": "stream",
     "text": [
      "[###########################             ] | 69% Completed | 41.6s"
     ]
    },
    {
     "name": "stderr",
     "output_type": "stream",
     "text": [
      "/exec/pbourg/.conda/analog/lib/python3.9/site-packages/dask/array/numpy_compat.py:39: RuntimeWarning: invalid value encountered in true_divide\n",
      "  x = np.divide(x1, x2, out)\n"
     ]
    },
    {
     "name": "stdout",
     "output_type": "stream",
     "text": [
      "[########################################] | 100% Completed | 58.6s\n",
      "[###                                     ] | 8% Completed |  7.6s"
     ]
    },
    {
     "name": "stderr",
     "output_type": "stream",
     "text": [
      "/exec/pbourg/.conda/analog/lib/python3.9/site-packages/dask/array/numpy_compat.py:39: RuntimeWarning: invalid value encountered in true_divide\n",
      "  x = np.divide(x1, x2, out)\n"
     ]
    },
    {
     "name": "stdout",
     "output_type": "stream",
     "text": [
      "[#####                                   ] | 13% Completed | 10.7s"
     ]
    },
    {
     "name": "stderr",
     "output_type": "stream",
     "text": [
      "/exec/pbourg/.conda/analog/lib/python3.9/site-packages/dask/utils.py:35: RuntimeWarning: All-NaN slice encountered\n",
      "  return func(*args, **kwargs)\n",
      "/exec/pbourg/.conda/analog/lib/python3.9/site-packages/dask/core.py:121: RuntimeWarning: All-NaN slice encountered\n",
      "  return func(*(_execute_task(a, cache) for a in args))\n"
     ]
    },
    {
     "name": "stdout",
     "output_type": "stream",
     "text": [
      "[########################################] | 100% Completed | 58.5s\n",
      "[##################                      ] | 45% Completed | 27.3s"
     ]
    },
    {
     "name": "stderr",
     "output_type": "stream",
     "text": [
      "/exec/pbourg/.conda/analog/lib/python3.9/site-packages/dask/utils.py:35: RuntimeWarning: All-NaN slice encountered\n",
      "  return func(*args, **kwargs)\n",
      "/exec/pbourg/.conda/analog/lib/python3.9/site-packages/dask/core.py:121: RuntimeWarning: All-NaN slice encountered\n",
      "  return func(*(_execute_task(a, cache) for a in args))\n"
     ]
    },
    {
     "name": "stdout",
     "output_type": "stream",
     "text": [
      "[#######################                 ] | 57% Completed | 34.1s"
     ]
    },
    {
     "name": "stderr",
     "output_type": "stream",
     "text": [
      "/exec/pbourg/.conda/analog/lib/python3.9/site-packages/dask/array/numpy_compat.py:39: RuntimeWarning: invalid value encountered in true_divide\n",
      "  x = np.divide(x1, x2, out)\n"
     ]
    },
    {
     "name": "stdout",
     "output_type": "stream",
     "text": [
      "[########################################] | 100% Completed | 56.6s\n",
      "[########################################] | 100% Completed |  1min  0.0s\n",
      "[#################                       ] | 44% Completed | 29.5s"
     ]
    },
    {
     "name": "stderr",
     "output_type": "stream",
     "text": [
      "/exec/pbourg/.conda/analog/lib/python3.9/site-packages/dask/utils.py:35: RuntimeWarning: All-NaN slice encountered\n",
      "  return func(*args, **kwargs)\n",
      "/exec/pbourg/.conda/analog/lib/python3.9/site-packages/dask/core.py:121: RuntimeWarning: All-NaN slice encountered\n",
      "  return func(*(_execute_task(a, cache) for a in args))\n"
     ]
    },
    {
     "name": "stdout",
     "output_type": "stream",
     "text": [
      "[#######################                 ] | 57% Completed | 36.7s"
     ]
    },
    {
     "name": "stderr",
     "output_type": "stream",
     "text": [
      "/exec/pbourg/.conda/analog/lib/python3.9/site-packages/dask/array/numpy_compat.py:39: RuntimeWarning: invalid value encountered in true_divide\n",
      "  x = np.divide(x1, x2, out)\n"
     ]
    },
    {
     "name": "stdout",
     "output_type": "stream",
     "text": [
      "[########################################] | 100% Completed | 59.6s\n",
      "[###                                     ] | 8% Completed |  7.4s"
     ]
    },
    {
     "name": "stderr",
     "output_type": "stream",
     "text": [
      "/exec/pbourg/.conda/analog/lib/python3.9/site-packages/dask/array/numpy_compat.py:39: RuntimeWarning: invalid value encountered in true_divide\n",
      "  x = np.divide(x1, x2, out)\n"
     ]
    },
    {
     "name": "stdout",
     "output_type": "stream",
     "text": [
      "[#####                                   ] | 14% Completed | 11.1s"
     ]
    },
    {
     "name": "stderr",
     "output_type": "stream",
     "text": [
      "/exec/pbourg/.conda/analog/lib/python3.9/site-packages/dask/utils.py:35: RuntimeWarning: All-NaN slice encountered\n",
      "  return func(*args, **kwargs)\n",
      "/exec/pbourg/.conda/analog/lib/python3.9/site-packages/dask/core.py:121: RuntimeWarning: All-NaN slice encountered\n",
      "  return func(*(_execute_task(a, cache) for a in args))\n"
     ]
    },
    {
     "name": "stdout",
     "output_type": "stream",
     "text": [
      "[########################################] | 100% Completed | 57.4s\n",
      "[#################                       ] | 44% Completed | 27.9s"
     ]
    },
    {
     "name": "stderr",
     "output_type": "stream",
     "text": [
      "/exec/pbourg/.conda/analog/lib/python3.9/site-packages/dask/utils.py:35: RuntimeWarning: All-NaN slice encountered\n",
      "  return func(*args, **kwargs)\n",
      "/exec/pbourg/.conda/analog/lib/python3.9/site-packages/dask/core.py:121: RuntimeWarning: All-NaN slice encountered\n",
      "  return func(*(_execute_task(a, cache) for a in args))\n"
     ]
    },
    {
     "name": "stdout",
     "output_type": "stream",
     "text": [
      "[#######################                 ] | 57% Completed | 35.1s"
     ]
    },
    {
     "name": "stderr",
     "output_type": "stream",
     "text": [
      "/exec/pbourg/.conda/analog/lib/python3.9/site-packages/dask/array/numpy_compat.py:39: RuntimeWarning: invalid value encountered in true_divide\n",
      "  x = np.divide(x1, x2, out)\n"
     ]
    },
    {
     "name": "stdout",
     "output_type": "stream",
     "text": [
      "[########################################] | 100% Completed | 58.0s\n",
      "[########################################] | 100% Completed |  1min  1.7s\n",
      "[#################                       ] | 44% Completed | 28.2s"
     ]
    },
    {
     "name": "stderr",
     "output_type": "stream",
     "text": [
      "/exec/pbourg/.conda/analog/lib/python3.9/site-packages/dask/utils.py:35: RuntimeWarning: All-NaN slice encountered\n",
      "  return func(*args, **kwargs)\n",
      "/exec/pbourg/.conda/analog/lib/python3.9/site-packages/dask/core.py:121: RuntimeWarning: All-NaN slice encountered\n",
      "  return func(*(_execute_task(a, cache) for a in args))\n"
     ]
    },
    {
     "name": "stdout",
     "output_type": "stream",
     "text": [
      "[#######################                 ] | 57% Completed | 35.4s"
     ]
    },
    {
     "name": "stderr",
     "output_type": "stream",
     "text": [
      "/exec/pbourg/.conda/analog/lib/python3.9/site-packages/dask/array/numpy_compat.py:39: RuntimeWarning: invalid value encountered in true_divide\n",
      "  x = np.divide(x1, x2, out)\n"
     ]
    },
    {
     "name": "stdout",
     "output_type": "stream",
     "text": [
      "[########################################] | 100% Completed | 57.9s\n",
      "[##                                      ] | 6% Completed |  6.1s"
     ]
    },
    {
     "name": "stderr",
     "output_type": "stream",
     "text": [
      "/exec/pbourg/.conda/analog/lib/python3.9/site-packages/dask/utils.py:35: RuntimeWarning: All-NaN slice encountered\n",
      "  return func(*args, **kwargs)\n",
      "/exec/pbourg/.conda/analog/lib/python3.9/site-packages/dask/core.py:121: RuntimeWarning: All-NaN slice encountered\n",
      "  return func(*(_execute_task(a, cache) for a in args))\n"
     ]
    },
    {
     "name": "stdout",
     "output_type": "stream",
     "text": [
      "[###                                     ] | 8% Completed |  7.1s"
     ]
    },
    {
     "name": "stderr",
     "output_type": "stream",
     "text": [
      "/exec/pbourg/.conda/analog/lib/python3.9/site-packages/dask/array/numpy_compat.py:39: RuntimeWarning: invalid value encountered in true_divide\n",
      "  x = np.divide(x1, x2, out)\n"
     ]
    },
    {
     "name": "stdout",
     "output_type": "stream",
     "text": [
      "[########################################] | 100% Completed | 57.1s\n",
      "[##############                          ] | 36% Completed | 22.4s"
     ]
    },
    {
     "name": "stderr",
     "output_type": "stream",
     "text": [
      "/exec/pbourg/.conda/analog/lib/python3.9/site-packages/dask/utils.py:35: RuntimeWarning: All-NaN slice encountered\n",
      "  return func(*args, **kwargs)\n",
      "/exec/pbourg/.conda/analog/lib/python3.9/site-packages/dask/core.py:121: RuntimeWarning: All-NaN slice encountered\n",
      "  return func(*(_execute_task(a, cache) for a in args))\n"
     ]
    },
    {
     "name": "stdout",
     "output_type": "stream",
     "text": [
      "[##################                      ] | 46% Completed | 28.2s"
     ]
    },
    {
     "name": "stderr",
     "output_type": "stream",
     "text": [
      "/exec/pbourg/.conda/analog/lib/python3.9/site-packages/dask/array/numpy_compat.py:39: RuntimeWarning: invalid value encountered in true_divide\n",
      "  x = np.divide(x1, x2, out)\n"
     ]
    },
    {
     "name": "stdout",
     "output_type": "stream",
     "text": [
      "[########################################] | 100% Completed | 57.3s\n",
      "[########################################] | 100% Completed |  1min  4.0s\n",
      "[######################                  ] | 56% Completed | 35.4s"
     ]
    },
    {
     "name": "stderr",
     "output_type": "stream",
     "text": [
      "/exec/pbourg/.conda/analog/lib/python3.9/site-packages/dask/utils.py:35: RuntimeWarning: All-NaN slice encountered\n",
      "  return func(*args, **kwargs)\n",
      "/exec/pbourg/.conda/analog/lib/python3.9/site-packages/dask/core.py:121: RuntimeWarning: All-NaN slice encountered\n",
      "  return func(*(_execute_task(a, cache) for a in args))\n"
     ]
    },
    {
     "name": "stdout",
     "output_type": "stream",
     "text": [
      "[###########################             ] | 68% Completed | 42.2s"
     ]
    },
    {
     "name": "stderr",
     "output_type": "stream",
     "text": [
      "/exec/pbourg/.conda/analog/lib/python3.9/site-packages/dask/array/numpy_compat.py:39: RuntimeWarning: invalid value encountered in true_divide\n",
      "  x = np.divide(x1, x2, out)\n"
     ]
    },
    {
     "name": "stdout",
     "output_type": "stream",
     "text": [
      "[########################################] | 100% Completed | 59.0s\n",
      "[##                                      ] | 6% Completed |  6.7s"
     ]
    },
    {
     "name": "stderr",
     "output_type": "stream",
     "text": [
      "/exec/pbourg/.conda/analog/lib/python3.9/site-packages/dask/utils.py:35: RuntimeWarning: All-NaN slice encountered\n",
      "  return func(*args, **kwargs)\n",
      "/exec/pbourg/.conda/analog/lib/python3.9/site-packages/dask/core.py:121: RuntimeWarning: All-NaN slice encountered\n",
      "  return func(*(_execute_task(a, cache) for a in args))\n"
     ]
    },
    {
     "name": "stdout",
     "output_type": "stream",
     "text": [
      "[###                                     ] | 8% Completed |  7.5s"
     ]
    },
    {
     "name": "stderr",
     "output_type": "stream",
     "text": [
      "/exec/pbourg/.conda/analog/lib/python3.9/site-packages/dask/array/numpy_compat.py:39: RuntimeWarning: invalid value encountered in true_divide\n",
      "  x = np.divide(x1, x2, out)\n"
     ]
    },
    {
     "name": "stdout",
     "output_type": "stream",
     "text": [
      "[########################################] | 100% Completed | 58.4s\n",
      "[##################                      ] | 45% Completed | 28.1s"
     ]
    },
    {
     "name": "stderr",
     "output_type": "stream",
     "text": [
      "/exec/pbourg/.conda/analog/lib/python3.9/site-packages/dask/utils.py:35: RuntimeWarning: All-NaN slice encountered\n",
      "  return func(*args, **kwargs)\n",
      "/exec/pbourg/.conda/analog/lib/python3.9/site-packages/dask/core.py:121: RuntimeWarning: All-NaN slice encountered\n",
      "  return func(*(_execute_task(a, cache) for a in args))\n"
     ]
    },
    {
     "name": "stdout",
     "output_type": "stream",
     "text": [
      "[#######################                 ] | 57% Completed | 35.1s"
     ]
    },
    {
     "name": "stderr",
     "output_type": "stream",
     "text": [
      "/exec/pbourg/.conda/analog/lib/python3.9/site-packages/dask/array/numpy_compat.py:39: RuntimeWarning: invalid value encountered in true_divide\n",
      "  x = np.divide(x1, x2, out)\n"
     ]
    },
    {
     "name": "stdout",
     "output_type": "stream",
     "text": [
      "[########################################] | 100% Completed | 59.0s\n",
      "[########################################] | 100% Completed | 14min 55.3s\n"
     ]
    }
   ],
   "source": [
    "with ProgressBar():\n",
    "    ssp245 = construct_ensemble('ssp245')\n",
    "    ssp245.to_netcdf('/datadir/simulations/criteria_ssp245_all.nc')"
   ]
  },
  {
   "cell_type": "code",
   "execution_count": null,
   "id": "08f442ea",
   "metadata": {
    "scrolled": true
   },
   "outputs": [
    {
     "name": "stdout",
     "output_type": "stream",
     "text": [
      "year_CNRM-CERFACS_CNRM-ESM2-1_ssp585\n",
      "year_EC-Earth-Consortium_EC-Earth3-Veg-LR_ssp585\n",
      "year_INM_INM-CM4-8_ssp585\n",
      "year_NIMS-KMA_KACE-1-0-G_ssp585\n",
      "year_CAS_FGOALS-g3_ssp585\n",
      "year_BCC_BCC-CSM2-MR_ssp585\n",
      "year_NCC_NorESM2-LM_ssp585\n",
      "year_NUIST_NESM3_ssp585\n",
      "year_CNRM-CERFACS_CNRM-CM6-1_ssp585\n",
      "year_INM_INM-CM5-0_ssp585\n",
      "year_CMCC_CMCC-ESM2_ssp585\n",
      "year_MIROC_MIROC-ES2L_ssp585\n",
      "year_AS-RCEC_TaiESM1_ssp585\n",
      "year_CCCma_CanESM5_ssp585\n",
      "year_NOAA-GFDL_GFDL-CM4_ssp585\n",
      "year_MPI-M_MPI-ESM1-2-LR_ssp585\n"
     ]
    },
    {
     "name": "stderr",
     "output_type": "stream",
     "text": [
      "Exception ignored in: <function WeakSet.__init__.<locals>._remove at 0x7f104b286940>\n",
      "Traceback (most recent call last):\n",
      "  File \"/exec/pbourg/.conda/analog/lib/python3.9/_weakrefset.py\", line 39, in _remove\n",
      "    def _remove(item, selfref=ref(self)):\n",
      "KeyboardInterrupt: \n"
     ]
    },
    {
     "name": "stdout",
     "output_type": "stream",
     "text": [
      "year_IPSL_IPSL-CM6A-LR_ssp585\n",
      "year_MIROC_MIROC6_ssp585\n",
      "year_NCC_NorESM2-MM_ssp585\n",
      "year_EC-Earth-Consortium_EC-Earth3-CC_ssp585\n",
      "year_NOAA-GFDL_GFDL-ESM4_ssp585\n",
      "year_KIOST_KIOST-ESM_ssp585\n",
      "year_MRI_MRI-ESM2-0_ssp585\n",
      "year_EC-Earth-Consortium_EC-Earth3-Veg_ssp585\n",
      "year_EC-Earth-Consortium_EC-Earth3_ssp585\n",
      "year_CSIRO-ARCCSS_ACCESS-CM2_ssp585\n",
      "[#################################       ] | 82% Completed | 49.5s"
     ]
    },
    {
     "name": "stderr",
     "output_type": "stream",
     "text": [
      "/exec/pbourg/.conda/analog/lib/python3.9/site-packages/dask/utils.py:35: RuntimeWarning: All-NaN slice encountered\n",
      "  return func(*args, **kwargs)\n"
     ]
    },
    {
     "name": "stdout",
     "output_type": "stream",
     "text": [
      "[#################################       ] | 84% Completed | 50.1s"
     ]
    },
    {
     "name": "stderr",
     "output_type": "stream",
     "text": [
      "/exec/pbourg/.conda/analog/lib/python3.9/site-packages/dask/core.py:121: RuntimeWarning: All-NaN slice encountered\n",
      "  return func(*(_execute_task(a, cache) for a in args))\n"
     ]
    },
    {
     "name": "stdout",
     "output_type": "stream",
     "text": [
      "[##################################      ] | 87% Completed | 51.8s"
     ]
    },
    {
     "name": "stderr",
     "output_type": "stream",
     "text": [
      "/exec/pbourg/.conda/analog/lib/python3.9/site-packages/dask/array/numpy_compat.py:39: RuntimeWarning: invalid value encountered in true_divide\n",
      "  x = np.divide(x1, x2, out)\n"
     ]
    },
    {
     "name": "stdout",
     "output_type": "stream",
     "text": [
      "[####################################### ] | 99% Completed | 58.4s"
     ]
    }
   ],
   "source": [
    "with ProgressBar():\n",
    "    ssp585 = construct_ensemble('ssp585')\n",
    "    ssp585.to_netcdf('/datadir/simulations/criteria_ssp585_all.nc')"
   ]
  },
  {
   "cell_type": "markdown",
   "id": "9c222557",
   "metadata": {},
   "source": [
    "Force : KIOST_KIOST-ESM_r1i1p1f1"
   ]
  },
  {
   "cell_type": "code",
   "execution_count": 2,
   "id": "963447de",
   "metadata": {},
   "outputs": [
    {
     "data": {
      "text/html": [
       "<div><svg style=\"position: absolute; width: 0; height: 0; overflow: hidden\">\n",
       "<defs>\n",
       "<symbol id=\"icon-database\" viewBox=\"0 0 32 32\">\n",
       "<path d=\"M16 0c-8.837 0-16 2.239-16 5v4c0 2.761 7.163 5 16 5s16-2.239 16-5v-4c0-2.761-7.163-5-16-5z\"></path>\n",
       "<path d=\"M16 17c-8.837 0-16-2.239-16-5v6c0 2.761 7.163 5 16 5s16-2.239 16-5v-6c0 2.761-7.163 5-16 5z\"></path>\n",
       "<path d=\"M16 26c-8.837 0-16-2.239-16-5v6c0 2.761 7.163 5 16 5s16-2.239 16-5v-6c0 2.761-7.163 5-16 5z\"></path>\n",
       "</symbol>\n",
       "<symbol id=\"icon-file-text2\" viewBox=\"0 0 32 32\">\n",
       "<path d=\"M28.681 7.159c-0.694-0.947-1.662-2.053-2.724-3.116s-2.169-2.030-3.116-2.724c-1.612-1.182-2.393-1.319-2.841-1.319h-15.5c-1.378 0-2.5 1.121-2.5 2.5v27c0 1.378 1.122 2.5 2.5 2.5h23c1.378 0 2.5-1.122 2.5-2.5v-19.5c0-0.448-0.137-1.23-1.319-2.841zM24.543 5.457c0.959 0.959 1.712 1.825 2.268 2.543h-4.811v-4.811c0.718 0.556 1.584 1.309 2.543 2.268zM28 29.5c0 0.271-0.229 0.5-0.5 0.5h-23c-0.271 0-0.5-0.229-0.5-0.5v-27c0-0.271 0.229-0.5 0.5-0.5 0 0 15.499-0 15.5 0v7c0 0.552 0.448 1 1 1h7v19.5z\"></path>\n",
       "<path d=\"M23 26h-14c-0.552 0-1-0.448-1-1s0.448-1 1-1h14c0.552 0 1 0.448 1 1s-0.448 1-1 1z\"></path>\n",
       "<path d=\"M23 22h-14c-0.552 0-1-0.448-1-1s0.448-1 1-1h14c0.552 0 1 0.448 1 1s-0.448 1-1 1z\"></path>\n",
       "<path d=\"M23 18h-14c-0.552 0-1-0.448-1-1s0.448-1 1-1h14c0.552 0 1 0.448 1 1s-0.448 1-1 1z\"></path>\n",
       "</symbol>\n",
       "</defs>\n",
       "</svg>\n",
       "<style>/* CSS stylesheet for displaying xarray objects in jupyterlab.\n",
       " *\n",
       " */\n",
       "\n",
       ":root {\n",
       "  --xr-font-color0: var(--jp-content-font-color0, rgba(0, 0, 0, 1));\n",
       "  --xr-font-color2: var(--jp-content-font-color2, rgba(0, 0, 0, 0.54));\n",
       "  --xr-font-color3: var(--jp-content-font-color3, rgba(0, 0, 0, 0.38));\n",
       "  --xr-border-color: var(--jp-border-color2, #e0e0e0);\n",
       "  --xr-disabled-color: var(--jp-layout-color3, #bdbdbd);\n",
       "  --xr-background-color: var(--jp-layout-color0, white);\n",
       "  --xr-background-color-row-even: var(--jp-layout-color1, white);\n",
       "  --xr-background-color-row-odd: var(--jp-layout-color2, #eeeeee);\n",
       "}\n",
       "\n",
       "html[theme=dark],\n",
       "body.vscode-dark {\n",
       "  --xr-font-color0: rgba(255, 255, 255, 1);\n",
       "  --xr-font-color2: rgba(255, 255, 255, 0.54);\n",
       "  --xr-font-color3: rgba(255, 255, 255, 0.38);\n",
       "  --xr-border-color: #1F1F1F;\n",
       "  --xr-disabled-color: #515151;\n",
       "  --xr-background-color: #111111;\n",
       "  --xr-background-color-row-even: #111111;\n",
       "  --xr-background-color-row-odd: #313131;\n",
       "}\n",
       "\n",
       ".xr-wrap {\n",
       "  display: block !important;\n",
       "  min-width: 300px;\n",
       "  max-width: 700px;\n",
       "}\n",
       "\n",
       ".xr-text-repr-fallback {\n",
       "  /* fallback to plain text repr when CSS is not injected (untrusted notebook) */\n",
       "  display: none;\n",
       "}\n",
       "\n",
       ".xr-header {\n",
       "  padding-top: 6px;\n",
       "  padding-bottom: 6px;\n",
       "  margin-bottom: 4px;\n",
       "  border-bottom: solid 1px var(--xr-border-color);\n",
       "}\n",
       "\n",
       ".xr-header > div,\n",
       ".xr-header > ul {\n",
       "  display: inline;\n",
       "  margin-top: 0;\n",
       "  margin-bottom: 0;\n",
       "}\n",
       "\n",
       ".xr-obj-type,\n",
       ".xr-array-name {\n",
       "  margin-left: 2px;\n",
       "  margin-right: 10px;\n",
       "}\n",
       "\n",
       ".xr-obj-type {\n",
       "  color: var(--xr-font-color2);\n",
       "}\n",
       "\n",
       ".xr-sections {\n",
       "  padding-left: 0 !important;\n",
       "  display: grid;\n",
       "  grid-template-columns: 150px auto auto 1fr 20px 20px;\n",
       "}\n",
       "\n",
       ".xr-section-item {\n",
       "  display: contents;\n",
       "}\n",
       "\n",
       ".xr-section-item input {\n",
       "  display: none;\n",
       "}\n",
       "\n",
       ".xr-section-item input + label {\n",
       "  color: var(--xr-disabled-color);\n",
       "}\n",
       "\n",
       ".xr-section-item input:enabled + label {\n",
       "  cursor: pointer;\n",
       "  color: var(--xr-font-color2);\n",
       "}\n",
       "\n",
       ".xr-section-item input:enabled + label:hover {\n",
       "  color: var(--xr-font-color0);\n",
       "}\n",
       "\n",
       ".xr-section-summary {\n",
       "  grid-column: 1;\n",
       "  color: var(--xr-font-color2);\n",
       "  font-weight: 500;\n",
       "}\n",
       "\n",
       ".xr-section-summary > span {\n",
       "  display: inline-block;\n",
       "  padding-left: 0.5em;\n",
       "}\n",
       "\n",
       ".xr-section-summary-in:disabled + label {\n",
       "  color: var(--xr-font-color2);\n",
       "}\n",
       "\n",
       ".xr-section-summary-in + label:before {\n",
       "  display: inline-block;\n",
       "  content: '►';\n",
       "  font-size: 11px;\n",
       "  width: 15px;\n",
       "  text-align: center;\n",
       "}\n",
       "\n",
       ".xr-section-summary-in:disabled + label:before {\n",
       "  color: var(--xr-disabled-color);\n",
       "}\n",
       "\n",
       ".xr-section-summary-in:checked + label:before {\n",
       "  content: '▼';\n",
       "}\n",
       "\n",
       ".xr-section-summary-in:checked + label > span {\n",
       "  display: none;\n",
       "}\n",
       "\n",
       ".xr-section-summary,\n",
       ".xr-section-inline-details {\n",
       "  padding-top: 4px;\n",
       "  padding-bottom: 4px;\n",
       "}\n",
       "\n",
       ".xr-section-inline-details {\n",
       "  grid-column: 2 / -1;\n",
       "}\n",
       "\n",
       ".xr-section-details {\n",
       "  display: none;\n",
       "  grid-column: 1 / -1;\n",
       "  margin-bottom: 5px;\n",
       "}\n",
       "\n",
       ".xr-section-summary-in:checked ~ .xr-section-details {\n",
       "  display: contents;\n",
       "}\n",
       "\n",
       ".xr-array-wrap {\n",
       "  grid-column: 1 / -1;\n",
       "  display: grid;\n",
       "  grid-template-columns: 20px auto;\n",
       "}\n",
       "\n",
       ".xr-array-wrap > label {\n",
       "  grid-column: 1;\n",
       "  vertical-align: top;\n",
       "}\n",
       "\n",
       ".xr-preview {\n",
       "  color: var(--xr-font-color3);\n",
       "}\n",
       "\n",
       ".xr-array-preview,\n",
       ".xr-array-data {\n",
       "  padding: 0 5px !important;\n",
       "  grid-column: 2;\n",
       "}\n",
       "\n",
       ".xr-array-data,\n",
       ".xr-array-in:checked ~ .xr-array-preview {\n",
       "  display: none;\n",
       "}\n",
       "\n",
       ".xr-array-in:checked ~ .xr-array-data,\n",
       ".xr-array-preview {\n",
       "  display: inline-block;\n",
       "}\n",
       "\n",
       ".xr-dim-list {\n",
       "  display: inline-block !important;\n",
       "  list-style: none;\n",
       "  padding: 0 !important;\n",
       "  margin: 0;\n",
       "}\n",
       "\n",
       ".xr-dim-list li {\n",
       "  display: inline-block;\n",
       "  padding: 0;\n",
       "  margin: 0;\n",
       "}\n",
       "\n",
       ".xr-dim-list:before {\n",
       "  content: '(';\n",
       "}\n",
       "\n",
       ".xr-dim-list:after {\n",
       "  content: ')';\n",
       "}\n",
       "\n",
       ".xr-dim-list li:not(:last-child):after {\n",
       "  content: ',';\n",
       "  padding-right: 5px;\n",
       "}\n",
       "\n",
       ".xr-has-index {\n",
       "  font-weight: bold;\n",
       "}\n",
       "\n",
       ".xr-var-list,\n",
       ".xr-var-item {\n",
       "  display: contents;\n",
       "}\n",
       "\n",
       ".xr-var-item > div,\n",
       ".xr-var-item label,\n",
       ".xr-var-item > .xr-var-name span {\n",
       "  background-color: var(--xr-background-color-row-even);\n",
       "  margin-bottom: 0;\n",
       "}\n",
       "\n",
       ".xr-var-item > .xr-var-name:hover span {\n",
       "  padding-right: 5px;\n",
       "}\n",
       "\n",
       ".xr-var-list > li:nth-child(odd) > div,\n",
       ".xr-var-list > li:nth-child(odd) > label,\n",
       ".xr-var-list > li:nth-child(odd) > .xr-var-name span {\n",
       "  background-color: var(--xr-background-color-row-odd);\n",
       "}\n",
       "\n",
       ".xr-var-name {\n",
       "  grid-column: 1;\n",
       "}\n",
       "\n",
       ".xr-var-dims {\n",
       "  grid-column: 2;\n",
       "}\n",
       "\n",
       ".xr-var-dtype {\n",
       "  grid-column: 3;\n",
       "  text-align: right;\n",
       "  color: var(--xr-font-color2);\n",
       "}\n",
       "\n",
       ".xr-var-preview {\n",
       "  grid-column: 4;\n",
       "}\n",
       "\n",
       ".xr-var-name,\n",
       ".xr-var-dims,\n",
       ".xr-var-dtype,\n",
       ".xr-preview,\n",
       ".xr-attrs dt {\n",
       "  white-space: nowrap;\n",
       "  overflow: hidden;\n",
       "  text-overflow: ellipsis;\n",
       "  padding-right: 10px;\n",
       "}\n",
       "\n",
       ".xr-var-name:hover,\n",
       ".xr-var-dims:hover,\n",
       ".xr-var-dtype:hover,\n",
       ".xr-attrs dt:hover {\n",
       "  overflow: visible;\n",
       "  width: auto;\n",
       "  z-index: 1;\n",
       "}\n",
       "\n",
       ".xr-var-attrs,\n",
       ".xr-var-data {\n",
       "  display: none;\n",
       "  background-color: var(--xr-background-color) !important;\n",
       "  padding-bottom: 5px !important;\n",
       "}\n",
       "\n",
       ".xr-var-attrs-in:checked ~ .xr-var-attrs,\n",
       ".xr-var-data-in:checked ~ .xr-var-data {\n",
       "  display: block;\n",
       "}\n",
       "\n",
       ".xr-var-data > table {\n",
       "  float: right;\n",
       "}\n",
       "\n",
       ".xr-var-name span,\n",
       ".xr-var-data,\n",
       ".xr-attrs {\n",
       "  padding-left: 25px !important;\n",
       "}\n",
       "\n",
       ".xr-attrs,\n",
       ".xr-var-attrs,\n",
       ".xr-var-data {\n",
       "  grid-column: 1 / -1;\n",
       "}\n",
       "\n",
       "dl.xr-attrs {\n",
       "  padding: 0;\n",
       "  margin: 0;\n",
       "  display: grid;\n",
       "  grid-template-columns: 125px auto;\n",
       "}\n",
       "\n",
       ".xr-attrs dt,\n",
       ".xr-attrs dd {\n",
       "  padding: 0;\n",
       "  margin: 0;\n",
       "  float: left;\n",
       "  padding-right: 10px;\n",
       "  width: auto;\n",
       "}\n",
       "\n",
       ".xr-attrs dt {\n",
       "  font-weight: normal;\n",
       "  grid-column: 1;\n",
       "}\n",
       "\n",
       ".xr-attrs dt:hover span {\n",
       "  display: inline-block;\n",
       "  background: var(--xr-background-color);\n",
       "  padding-right: 10px;\n",
       "}\n",
       "\n",
       ".xr-attrs dd {\n",
       "  grid-column: 2;\n",
       "  white-space: pre-wrap;\n",
       "  word-break: break-all;\n",
       "}\n",
       "\n",
       ".xr-icon-database,\n",
       ".xr-icon-file-text2 {\n",
       "  display: inline-block;\n",
       "  vertical-align: middle;\n",
       "  width: 1em;\n",
       "  height: 1.5em !important;\n",
       "  stroke-width: 0;\n",
       "  stroke: currentColor;\n",
       "  fill: currentColor;\n",
       "}\n",
       "</style><pre class='xr-text-repr-fallback'>&lt;xarray.DataArray (criteria: 40, realization: 157)&gt;\n",
       "array([[344.05444336, 106.9879837 ,  69.52327728, ...,  84.0165863 ,\n",
       "        158.42466736, 139.43598938],\n",
       "       [  2.64055127,  21.85376253,  12.3357297 , ...,  14.71323077,\n",
       "         11.23016199, 100.4343116 ],\n",
       "       [-12.06512821, -33.3574359 , -19.83025641, ..., -27.58871795,\n",
       "        -29.97025641, -28.27230769],\n",
       "       ...,\n",
       "       [ 63.81589744,  13.82461538,   9.31897436, ...,  12.36307692,\n",
       "         12.54      ,  11.31487179],\n",
       "       [ 36.02564103,   8.69384615,   5.64871795, ...,   2.84769231,\n",
       "          0.95230769,   0.86615385],\n",
       "       [ 14.53658009,   5.81563854,   3.23115325, ...,   4.25769949,\n",
       "          6.15206337,   5.68580675]])\n",
       "Coordinates:\n",
       "  * realization  (realization) object &#x27;AS-RCEC_TaiESM1_r1i1p1f1&#x27; ... &#x27;NUIST_N...\n",
       "  * criteria     (criteria) &lt;U13 &#x27;CDD_ssp245&#x27; &#x27;FAF_ssp245&#x27; ... &#x27;TXx_ssp585&#x27;</pre><div class='xr-wrap' style='display:none'><div class='xr-header'><div class='xr-obj-type'>xarray.DataArray</div><div class='xr-array-name'></div><ul class='xr-dim-list'><li><span class='xr-has-index'>criteria</span>: 40</li><li><span class='xr-has-index'>realization</span>: 157</li></ul></div><ul class='xr-sections'><li class='xr-section-item'><div class='xr-array-wrap'><input id='section-8f4fa50f-03a3-43eb-8a7b-996d38ded231' class='xr-array-in' type='checkbox' checked><label for='section-8f4fa50f-03a3-43eb-8a7b-996d38ded231' title='Show/hide data repr'><svg class='icon xr-icon-database'><use xlink:href='#icon-database'></use></svg></label><div class='xr-array-preview xr-preview'><span>344.1 107.0 69.52 63.93 60.42 304.8 ... 7.238 6.175 4.258 6.152 5.686</span></div><div class='xr-array-data'><pre>array([[344.05444336, 106.9879837 ,  69.52327728, ...,  84.0165863 ,\n",
       "        158.42466736, 139.43598938],\n",
       "       [  2.64055127,  21.85376253,  12.3357297 , ...,  14.71323077,\n",
       "         11.23016199, 100.4343116 ],\n",
       "       [-12.06512821, -33.3574359 , -19.83025641, ..., -27.58871795,\n",
       "        -29.97025641, -28.27230769],\n",
       "       ...,\n",
       "       [ 63.81589744,  13.82461538,   9.31897436, ...,  12.36307692,\n",
       "         12.54      ,  11.31487179],\n",
       "       [ 36.02564103,   8.69384615,   5.64871795, ...,   2.84769231,\n",
       "          0.95230769,   0.86615385],\n",
       "       [ 14.53658009,   5.81563854,   3.23115325, ...,   4.25769949,\n",
       "          6.15206337,   5.68580675]])</pre></div></div></li><li class='xr-section-item'><input id='section-a141f479-de9a-43aa-aa01-554570295fc0' class='xr-section-summary-in' type='checkbox'  checked><label for='section-a141f479-de9a-43aa-aa01-554570295fc0' class='xr-section-summary' >Coordinates: <span>(2)</span></label><div class='xr-section-inline-details'></div><div class='xr-section-details'><ul class='xr-var-list'><li class='xr-var-item'><div class='xr-var-name'><span class='xr-has-index'>realization</span></div><div class='xr-var-dims'>(realization)</div><div class='xr-var-dtype'>object</div><div class='xr-var-preview xr-preview'>&#x27;AS-RCEC_TaiESM1_r1i1p1f1&#x27; ... &#x27;...</div><input id='attrs-28379c59-1c08-4718-be71-2480833f6c82' class='xr-var-attrs-in' type='checkbox' disabled><label for='attrs-28379c59-1c08-4718-be71-2480833f6c82' title='Show/Hide attributes'><svg class='icon xr-icon-file-text2'><use xlink:href='#icon-file-text2'></use></svg></label><input id='data-4f72fc8e-a31d-4df6-ad23-cacba62b7083' class='xr-var-data-in' type='checkbox'><label for='data-4f72fc8e-a31d-4df6-ad23-cacba62b7083' title='Show/Hide data repr'><svg class='icon xr-icon-database'><use xlink:href='#icon-database'></use></svg></label><div class='xr-var-attrs'><dl class='xr-attrs'></dl></div><div class='xr-var-data'><pre>array([&#x27;AS-RCEC_TaiESM1_r1i1p1f1&#x27;, &#x27;BCC_BCC-CSM2-MR_r1i1p1f1&#x27;,\n",
       "       &#x27;CAS_FGOALS-g3_r1i1p1f1&#x27;, &#x27;CAS_FGOALS-g3_r3i1p1f1&#x27;,\n",
       "       &#x27;CAS_FGOALS-g3_r4i1p1f1&#x27;, &#x27;CCCma_CanESM5_r10i1p1f1&#x27;,\n",
       "       &#x27;CCCma_CanESM5_r10i1p2f1&#x27;, &#x27;CCCma_CanESM5_r11i1p1f1&#x27;,\n",
       "       &#x27;CCCma_CanESM5_r11i1p2f1&#x27;, &#x27;CCCma_CanESM5_r12i1p1f1&#x27;,\n",
       "       &#x27;CCCma_CanESM5_r12i1p2f1&#x27;, &#x27;CCCma_CanESM5_r13i1p1f1&#x27;,\n",
       "       &#x27;CCCma_CanESM5_r13i1p2f1&#x27;, &#x27;CCCma_CanESM5_r14i1p1f1&#x27;,\n",
       "       &#x27;CCCma_CanESM5_r14i1p2f1&#x27;, &#x27;CCCma_CanESM5_r15i1p1f1&#x27;,\n",
       "       &#x27;CCCma_CanESM5_r15i1p2f1&#x27;, &#x27;CCCma_CanESM5_r16i1p1f1&#x27;,\n",
       "       &#x27;CCCma_CanESM5_r16i1p2f1&#x27;, &#x27;CCCma_CanESM5_r17i1p1f1&#x27;,\n",
       "       &#x27;CCCma_CanESM5_r17i1p2f1&#x27;, &#x27;CCCma_CanESM5_r18i1p1f1&#x27;,\n",
       "       &#x27;CCCma_CanESM5_r18i1p2f1&#x27;, &#x27;CCCma_CanESM5_r19i1p1f1&#x27;,\n",
       "       &#x27;CCCma_CanESM5_r19i1p2f1&#x27;, &#x27;CCCma_CanESM5_r1i1p1f1&#x27;,\n",
       "       &#x27;CCCma_CanESM5_r1i1p2f1&#x27;, &#x27;CCCma_CanESM5_r20i1p1f1&#x27;,\n",
       "       &#x27;CCCma_CanESM5_r20i1p2f1&#x27;, &#x27;CCCma_CanESM5_r21i1p1f1&#x27;,\n",
       "       &#x27;CCCma_CanESM5_r21i1p2f1&#x27;, &#x27;CCCma_CanESM5_r22i1p1f1&#x27;,\n",
       "       &#x27;CCCma_CanESM5_r22i1p2f1&#x27;, &#x27;CCCma_CanESM5_r23i1p1f1&#x27;,\n",
       "       &#x27;CCCma_CanESM5_r23i1p2f1&#x27;, &#x27;CCCma_CanESM5_r24i1p1f1&#x27;,\n",
       "       &#x27;CCCma_CanESM5_r24i1p2f1&#x27;, &#x27;CCCma_CanESM5_r25i1p1f1&#x27;,\n",
       "       &#x27;CCCma_CanESM5_r25i1p2f1&#x27;, &#x27;CCCma_CanESM5_r2i1p1f1&#x27;,\n",
       "       &#x27;CCCma_CanESM5_r2i1p2f1&#x27;, &#x27;CCCma_CanESM5_r3i1p1f1&#x27;,\n",
       "       &#x27;CCCma_CanESM5_r3i1p2f1&#x27;, &#x27;CCCma_CanESM5_r4i1p1f1&#x27;,\n",
       "       &#x27;CCCma_CanESM5_r4i1p2f1&#x27;, &#x27;CCCma_CanESM5_r5i1p1f1&#x27;,\n",
       "       &#x27;CCCma_CanESM5_r5i1p2f1&#x27;, &#x27;CCCma_CanESM5_r6i1p1f1&#x27;,\n",
       "       &#x27;CCCma_CanESM5_r6i1p2f1&#x27;, &#x27;CCCma_CanESM5_r7i1p1f1&#x27;,\n",
       "       &#x27;CCCma_CanESM5_r7i1p2f1&#x27;, &#x27;CCCma_CanESM5_r8i1p1f1&#x27;,\n",
       "       &#x27;CCCma_CanESM5_r8i1p2f1&#x27;, &#x27;CCCma_CanESM5_r9i1p1f1&#x27;,\n",
       "       &#x27;CCCma_CanESM5_r9i1p2f1&#x27;, &#x27;CMCC_CMCC-ESM2_r1i1p1f1&#x27;,\n",
       "       &#x27;CNRM-CERFACS_CNRM-CM6-1_r1i1p1f2&#x27;, &#x27;CNRM-CERFACS_CNRM-ESM2-1_r1i1p1f2&#x27;,\n",
       "       &#x27;CSIRO-ARCCSS_ACCESS-CM2_r2i1p1f1&#x27;, &#x27;CSIRO-ARCCSS_ACCESS-CM2_r3i1p1f1&#x27;,\n",
       "       &#x27;EC-Earth-Consortium_EC-Earth3-CC_r1i1p1f1&#x27;,\n",
       "       &#x27;EC-Earth-Consortium_EC-Earth3-Veg-LR_r1i1p1f1&#x27;,\n",
       "       &#x27;EC-Earth-Consortium_EC-Earth3-Veg-LR_r2i1p1f1&#x27;,\n",
       "       &#x27;EC-Earth-Consortium_EC-Earth3-Veg-LR_r3i1p1f1&#x27;,\n",
       "       &#x27;EC-Earth-Consortium_EC-Earth3-Veg_r1i1p1f1&#x27;,\n",
       "       &#x27;EC-Earth-Consortium_EC-Earth3-Veg_r2i1p1f1&#x27;,\n",
       "       &#x27;EC-Earth-Consortium_EC-Earth3-Veg_r3i1p1f1&#x27;,\n",
       "       &#x27;EC-Earth-Consortium_EC-Earth3-Veg_r4i1p1f1&#x27;,\n",
       "       &#x27;EC-Earth-Consortium_EC-Earth3-Veg_r6i1p1f1&#x27;,\n",
       "       &#x27;EC-Earth-Consortium_EC-Earth3_r101i1p1f1&#x27;,\n",
       "       &#x27;EC-Earth-Consortium_EC-Earth3_r102i1p1f1&#x27;,\n",
       "       &#x27;EC-Earth-Consortium_EC-Earth3_r103i1p1f1&#x27;,\n",
       "       &#x27;EC-Earth-Consortium_EC-Earth3_r104i1p1f1&#x27;,\n",
       "       &#x27;EC-Earth-Consortium_EC-Earth3_r105i1p1f1&#x27;,\n",
       "       &#x27;EC-Earth-Consortium_EC-Earth3_r106i1p1f1&#x27;,\n",
       "       &#x27;EC-Earth-Consortium_EC-Earth3_r107i1p1f1&#x27;,\n",
       "       &#x27;EC-Earth-Consortium_EC-Earth3_r108i1p1f1&#x27;,\n",
       "       &#x27;EC-Earth-Consortium_EC-Earth3_r109i1p1f1&#x27;,\n",
       "       &#x27;EC-Earth-Consortium_EC-Earth3_r110i1p1f1&#x27;,\n",
       "       &#x27;EC-Earth-Consortium_EC-Earth3_r111i1p1f1&#x27;,\n",
       "       &#x27;EC-Earth-Consortium_EC-Earth3_r112i1p1f1&#x27;,\n",
       "       &#x27;EC-Earth-Consortium_EC-Earth3_r113i1p1f1&#x27;,\n",
       "       &#x27;EC-Earth-Consortium_EC-Earth3_r114i1p1f1&#x27;,\n",
       "       &#x27;EC-Earth-Consortium_EC-Earth3_r115i1p1f1&#x27;,\n",
       "       &#x27;EC-Earth-Consortium_EC-Earth3_r116i1p1f1&#x27;,\n",
       "       &#x27;EC-Earth-Consortium_EC-Earth3_r117i1p1f1&#x27;,\n",
       "       &#x27;EC-Earth-Consortium_EC-Earth3_r118i1p1f1&#x27;,\n",
       "       &#x27;EC-Earth-Consortium_EC-Earth3_r119i1p1f1&#x27;,\n",
       "       &#x27;EC-Earth-Consortium_EC-Earth3_r11i1p1f1&#x27;,\n",
       "       &#x27;EC-Earth-Consortium_EC-Earth3_r120i1p1f1&#x27;,\n",
       "       &#x27;EC-Earth-Consortium_EC-Earth3_r121i1p1f1&#x27;,\n",
       "       &#x27;EC-Earth-Consortium_EC-Earth3_r122i1p1f1&#x27;,\n",
       "       &#x27;EC-Earth-Consortium_EC-Earth3_r123i1p1f1&#x27;,\n",
       "       &#x27;EC-Earth-Consortium_EC-Earth3_r124i1p1f1&#x27;,\n",
       "       &#x27;EC-Earth-Consortium_EC-Earth3_r125i1p1f1&#x27;,\n",
       "       &#x27;EC-Earth-Consortium_EC-Earth3_r126i1p1f1&#x27;,\n",
       "       &#x27;EC-Earth-Consortium_EC-Earth3_r127i1p1f1&#x27;,\n",
       "       &#x27;EC-Earth-Consortium_EC-Earth3_r128i1p1f1&#x27;,\n",
       "       &#x27;EC-Earth-Consortium_EC-Earth3_r129i1p1f1&#x27;,\n",
       "       &#x27;EC-Earth-Consortium_EC-Earth3_r130i1p1f1&#x27;,\n",
       "       &#x27;EC-Earth-Consortium_EC-Earth3_r131i1p1f1&#x27;,\n",
       "       &#x27;EC-Earth-Consortium_EC-Earth3_r132i1p1f1&#x27;,\n",
       "       &#x27;EC-Earth-Consortium_EC-Earth3_r133i1p1f1&#x27;,\n",
       "       &#x27;EC-Earth-Consortium_EC-Earth3_r134i1p1f1&#x27;,\n",
       "       &#x27;EC-Earth-Consortium_EC-Earth3_r135i1p1f1&#x27;,\n",
       "       &#x27;EC-Earth-Consortium_EC-Earth3_r137i1p1f1&#x27;,\n",
       "       &#x27;EC-Earth-Consortium_EC-Earth3_r138i1p1f1&#x27;,\n",
       "       &#x27;EC-Earth-Consortium_EC-Earth3_r139i1p1f1&#x27;,\n",
       "       &#x27;EC-Earth-Consortium_EC-Earth3_r13i1p1f1&#x27;,\n",
       "       &#x27;EC-Earth-Consortium_EC-Earth3_r140i1p1f1&#x27;,\n",
       "       &#x27;EC-Earth-Consortium_EC-Earth3_r141i1p1f1&#x27;,\n",
       "       &#x27;EC-Earth-Consortium_EC-Earth3_r142i1p1f1&#x27;,\n",
       "       &#x27;EC-Earth-Consortium_EC-Earth3_r143i1p1f1&#x27;,\n",
       "       &#x27;EC-Earth-Consortium_EC-Earth3_r144i1p1f1&#x27;,\n",
       "       &#x27;EC-Earth-Consortium_EC-Earth3_r145i1p1f1&#x27;,\n",
       "       &#x27;EC-Earth-Consortium_EC-Earth3_r146i1p1f1&#x27;,\n",
       "       &#x27;EC-Earth-Consortium_EC-Earth3_r147i1p1f1&#x27;,\n",
       "       &#x27;EC-Earth-Consortium_EC-Earth3_r148i1p1f1&#x27;,\n",
       "       &#x27;EC-Earth-Consortium_EC-Earth3_r149i1p1f1&#x27;,\n",
       "       &#x27;EC-Earth-Consortium_EC-Earth3_r150i1p1f1&#x27;,\n",
       "       &#x27;EC-Earth-Consortium_EC-Earth3_r15i1p1f1&#x27;,\n",
       "       &#x27;EC-Earth-Consortium_EC-Earth3_r1i1p1f1&#x27;,\n",
       "       &#x27;EC-Earth-Consortium_EC-Earth3_r4i1p1f1&#x27;,\n",
       "       &#x27;EC-Earth-Consortium_EC-Earth3_r6i1p1f1&#x27;,\n",
       "       &#x27;EC-Earth-Consortium_EC-Earth3_r9i1p1f1&#x27;, &#x27;INM_INM-CM4-8_r1i1p1f1&#x27;,\n",
       "       &#x27;INM_INM-CM5-0_r1i1p1f1&#x27;, &#x27;IPSL_IPSL-CM6A-LR_r14i1p1f1&#x27;,\n",
       "       &#x27;IPSL_IPSL-CM6A-LR_r1i1p1f1&#x27;, &#x27;IPSL_IPSL-CM6A-LR_r2i1p1f1&#x27;,\n",
       "       &#x27;IPSL_IPSL-CM6A-LR_r3i1p1f1&#x27;, &#x27;IPSL_IPSL-CM6A-LR_r4i1p1f1&#x27;,\n",
       "       &#x27;IPSL_IPSL-CM6A-LR_r6i1p1f1&#x27;, &#x27;MIROC_MIROC-ES2L_r1i1p1f2&#x27;,\n",
       "       &#x27;MIROC_MIROC6_r1i1p1f1&#x27;, &#x27;MIROC_MIROC6_r2i1p1f1&#x27;,\n",
       "       &#x27;MIROC_MIROC6_r3i1p1f1&#x27;, &#x27;MPI-M_MPI-ESM1-2-LR_r10i1p1f1&#x27;,\n",
       "       &#x27;MPI-M_MPI-ESM1-2-LR_r1i1p1f1&#x27;, &#x27;MPI-M_MPI-ESM1-2-LR_r2i1p1f1&#x27;,\n",
       "       &#x27;MPI-M_MPI-ESM1-2-LR_r3i1p1f1&#x27;, &#x27;MPI-M_MPI-ESM1-2-LR_r4i1p1f1&#x27;,\n",
       "       &#x27;MPI-M_MPI-ESM1-2-LR_r5i1p1f1&#x27;, &#x27;MPI-M_MPI-ESM1-2-LR_r6i1p1f1&#x27;,\n",
       "       &#x27;MPI-M_MPI-ESM1-2-LR_r7i1p1f1&#x27;, &#x27;MPI-M_MPI-ESM1-2-LR_r8i1p1f1&#x27;,\n",
       "       &#x27;MPI-M_MPI-ESM1-2-LR_r9i1p1f1&#x27;, &#x27;MRI_MRI-ESM2-0_r1i1p1f1&#x27;,\n",
       "       &#x27;NCC_NorESM2-LM_r1i1p1f1&#x27;, &#x27;NCC_NorESM2-MM_r1i1p1f1&#x27;,\n",
       "       &#x27;NIMS-KMA_KACE-1-0-G_r1i1p1f1&#x27;, &#x27;NIMS-KMA_KACE-1-0-G_r2i1p1f1&#x27;,\n",
       "       &#x27;NIMS-KMA_KACE-1-0-G_r3i1p1f1&#x27;, &#x27;NOAA-GFDL_GFDL-CM4_r1i1p1f1&#x27;,\n",
       "       &#x27;NOAA-GFDL_GFDL-ESM4_r1i1p1f1&#x27;, &#x27;NUIST_NESM3_r1i1p1f1&#x27;,\n",
       "       &#x27;NUIST_NESM3_r2i1p1f1&#x27;], dtype=object)</pre></div></li><li class='xr-var-item'><div class='xr-var-name'><span class='xr-has-index'>criteria</span></div><div class='xr-var-dims'>(criteria)</div><div class='xr-var-dtype'>&lt;U13</div><div class='xr-var-preview xr-preview'>&#x27;CDD_ssp245&#x27; ... &#x27;TXx_ssp585&#x27;</div><input id='attrs-4b66c7ed-33b0-4eb5-b18a-7f8280d78212' class='xr-var-attrs-in' type='checkbox' disabled><label for='attrs-4b66c7ed-33b0-4eb5-b18a-7f8280d78212' title='Show/Hide attributes'><svg class='icon xr-icon-file-text2'><use xlink:href='#icon-file-text2'></use></svg></label><input id='data-ad46291d-7bf9-43d0-a4d2-d401ae565b3b' class='xr-var-data-in' type='checkbox'><label for='data-ad46291d-7bf9-43d0-a4d2-d401ae565b3b' title='Show/Hide data repr'><svg class='icon xr-icon-database'><use xlink:href='#icon-database'></use></svg></label><div class='xr-var-attrs'><dl class='xr-attrs'></dl></div><div class='xr-var-data'><pre>array([&#x27;CDD_ssp245&#x27;, &#x27;FAF_ssp245&#x27;, &#x27;FD_ssp245&#x27;, &#x27;GDD0_ssp245&#x27;, &#x27;GDD10_ssp245&#x27;,\n",
       "       &#x27;GDD5_ssp245&#x27;, &#x27;GSL_ssp245&#x27;, &#x27;HDD_ssp245&#x27;, &#x27;ID_ssp245&#x27;, &#x27;LSF_ssp245&#x27;,\n",
       "       &#x27;R20mm_ssp245&#x27;, &#x27;RR_ssp245&#x27;, &#x27;RX1day_ssp245&#x27;, &#x27;RX5day_ssp245&#x27;,\n",
       "       &#x27;TG_ssp245&#x27;, &#x27;TNgt22_ssp245&#x27;, &#x27;TNn_ssp245&#x27;, &#x27;TXgt25_ssp245&#x27;,\n",
       "       &#x27;TXgt30_ssp245&#x27;, &#x27;TXx_ssp245&#x27;, &#x27;CDD_ssp585&#x27;, &#x27;FAF_ssp585&#x27;, &#x27;FD_ssp585&#x27;,\n",
       "       &#x27;GDD0_ssp585&#x27;, &#x27;GDD10_ssp585&#x27;, &#x27;GDD5_ssp585&#x27;, &#x27;GSL_ssp585&#x27;,\n",
       "       &#x27;HDD_ssp585&#x27;, &#x27;ID_ssp585&#x27;, &#x27;LSF_ssp585&#x27;, &#x27;R20mm_ssp585&#x27;, &#x27;RR_ssp585&#x27;,\n",
       "       &#x27;RX1day_ssp585&#x27;, &#x27;RX5day_ssp585&#x27;, &#x27;TG_ssp585&#x27;, &#x27;TNgt22_ssp585&#x27;,\n",
       "       &#x27;TNn_ssp585&#x27;, &#x27;TXgt25_ssp585&#x27;, &#x27;TXgt30_ssp585&#x27;, &#x27;TXx_ssp585&#x27;],\n",
       "      dtype=&#x27;&lt;U13&#x27;)</pre></div></li></ul></div></li><li class='xr-section-item'><input id='section-a51dd1ce-5392-4415-b6c1-58649a91d802' class='xr-section-summary-in' type='checkbox' disabled ><label for='section-a51dd1ce-5392-4415-b6c1-58649a91d802' class='xr-section-summary'  title='Expand/collapse section'>Attributes: <span>(0)</span></label><div class='xr-section-inline-details'></div><div class='xr-section-details'><dl class='xr-attrs'></dl></div></li></ul></div></div>"
      ],
      "text/plain": [
       "<xarray.DataArray (criteria: 40, realization: 157)>\n",
       "array([[344.05444336, 106.9879837 ,  69.52327728, ...,  84.0165863 ,\n",
       "        158.42466736, 139.43598938],\n",
       "       [  2.64055127,  21.85376253,  12.3357297 , ...,  14.71323077,\n",
       "         11.23016199, 100.4343116 ],\n",
       "       [-12.06512821, -33.3574359 , -19.83025641, ..., -27.58871795,\n",
       "        -29.97025641, -28.27230769],\n",
       "       ...,\n",
       "       [ 63.81589744,  13.82461538,   9.31897436, ...,  12.36307692,\n",
       "         12.54      ,  11.31487179],\n",
       "       [ 36.02564103,   8.69384615,   5.64871795, ...,   2.84769231,\n",
       "          0.95230769,   0.86615385],\n",
       "       [ 14.53658009,   5.81563854,   3.23115325, ...,   4.25769949,\n",
       "          6.15206337,   5.68580675]])\n",
       "Coordinates:\n",
       "  * realization  (realization) object 'AS-RCEC_TaiESM1_r1i1p1f1' ... 'NUIST_N...\n",
       "  * criteria     (criteria) <U13 'CDD_ssp245' 'FAF_ssp245' ... 'TXx_ssp585'"
      ]
     },
     "execution_count": 2,
     "metadata": {},
     "output_type": "execute_result"
    }
   ],
   "source": [
    "ssp245 = xr.open_dataset('/datadir/simulations/criteria_ssp245_all.nc', decode_timedelta=False)\n",
    "ssp585 = xr.open_dataset('/datadir/simulations/criteria_ssp585_all.nc', decode_timedelta=False)\n",
    "for name, var in ssp245.data_vars.items():\n",
    "    if var.attrs.get('units') == 'nanoseconds':\n",
    "        ssp245[name] = xc.core.units.convert_units_to(var, 'days')\n",
    "        ssp585[name] = xc.core.units.convert_units_to(var, 'days')\n",
    "\n",
    "crit245 = ssp245.to_array('criteria')\n",
    "crit245['criteria'] = [f\"{critname}_ssp245\" for critname in crit245.criteria.values]\n",
    "crit585 = ssp585.to_array('criteria')\n",
    "crit585['criteria'] = [f\"{critname}_ssp585\" for critname in crit585.criteria.values]\n",
    "crit = xr.concat([crit245, crit585], 'criteria')\n",
    "crit = crit.where(crit.isnull().sum('criteria') == 0, drop=True)\n",
    "crit"
   ]
  },
  {
   "cell_type": "code",
   "execution_count": 6,
   "id": "a0e356cb",
   "metadata": {},
   "outputs": [],
   "source": [
    "from eofs.xarray import Eof"
   ]
  },
  {
   "cell_type": "code",
   "execution_count": 7,
   "id": "600a2505",
   "metadata": {},
   "outputs": [],
   "source": [
    "def color_legend(reals):\n",
    "    mods = list(set([splitmod(real.item())[0] for real in reals]))\n",
    "    N = len(mods)\n",
    "    cmap = {mod: plt.cm.gist_rainbow(i / (N - 1)) for i, mod in enumerate(mods)}\n",
    "    colors = [cmap[splitmod(real.item())[0]] for real in reals]\n",
    "    handles = [mpl.lines.Line2D([0], [0], marker='o', color=cmap[mod], label=mod) for mod in mods]\n",
    "    return colors, handles\n",
    "\n",
    "def splitmod(name):\n",
    "    return '_'.join(name.split('_')[:-1]), name.split('_')[-1]"
   ]
  },
  {
   "cell_type": "code",
   "execution_count": 8,
   "id": "a9fa899c",
   "metadata": {},
   "outputs": [
    {
     "data": {
      "text/plain": [
       "<eofs.xarray.Eof at 0x7fc929c40580>"
      ]
     },
     "execution_count": 8,
     "metadata": {},
     "output_type": "execute_result"
    }
   ],
   "source": [
    "data = crit.rename(realization='time').transpose('time', 'criteria')\n",
    "# standardize (réduction + centrage)\n",
    "data = (data - data.mean('time')) / data.std('time')\n",
    "# remove outlier\n",
    "data = data.drop_sel(time=['NUIST_NESM3_r2i1p1f1', 'AS-RCEC_TaiESM1_r1i1p1f1'])\n",
    "solver = Eof(data)\n",
    "solver"
   ]
  },
  {
   "cell_type": "code",
   "execution_count": 17,
   "id": "323817a8",
   "metadata": {},
   "outputs": [
    {
     "name": "stdout",
     "output_type": "stream",
     "text": [
      "<xarray.DataArray 'variance_fractions' (mode: 10)>\n",
      "array([0.75946235, 0.1220232 , 0.04389729, 0.02009911, 0.01133107,\n",
      "       0.01023349, 0.00748138, 0.00487235, 0.00348767, 0.00320997])\n",
      "Coordinates:\n",
      "  * mode     (mode) int64 0 1 2 3 4 5 6 7 8 9\n",
      "Attributes:\n",
      "    long_name:  variance_fractions\n"
     ]
    }
   ],
   "source": [
    "out = solver.pcs(npcs=3).rename(time='realization', mode='criteria')\n",
    "varfrac = solver.varianceFraction()\n",
    "print(varfrac[:10])\n",
    "outscl = out * varfrac.rename(mode='criteria').isel(criteria=slice(None, 3))"
   ]
  },
  {
   "cell_type": "code",
   "execution_count": 10,
   "id": "58dc1e0b",
   "metadata": {},
   "outputs": [
    {
     "data": {
      "text/plain": [
       "<matplotlib.collections.PathCollection at 0x7fc921b21a30>"
      ]
     },
     "execution_count": 10,
     "metadata": {},
     "output_type": "execute_result"
    },
    {
     "data": {
      "image/png": "[encoded data removed]",
      "text/plain": [
       "<Figure size 432x288 with 1 Axes>"
      ]
     },
     "metadata": {
      "needs_background": "light"
     },
     "output_type": "display_data"
    }
   ],
   "source": [
    "c, h = color_legend(out.realization)\n",
    "plt.scatter(out.isel(criteria=0), -out.isel(criteria=1), c=c)"
   ]
  },
  {
   "cell_type": "code",
   "execution_count": 18,
   "id": "81082df8",
   "metadata": {},
   "outputs": [
    {
     "data": {
      "text/plain": [
       "<matplotlib.collections.PathCollection at 0x7fc9219c43d0>"
      ]
     },
     "execution_count": 18,
     "metadata": {},
     "output_type": "execute_result"
    },
    {
     "data": {
      "image/png": "[encoded data removed]",
      "text/plain": [
       "<Figure size 432x288 with 1 Axes>"
      ]
     },
     "metadata": {
      "needs_background": "light"
     },
     "output_type": "display_data"
    }
   ],
   "source": [
    "c, h = color_legend(outscl.realization)\n",
    "plt.scatter(outscl.isel(criteria=0), -outscl.isel(criteria=1), c=c)"
   ]
  },
  {
   "cell_type": "code",
   "execution_count": 11,
   "id": "0d2e373f",
   "metadata": {},
   "outputs": [],
   "source": [
    "def recursive_kkz(da, repeat=True):\n",
    "    model = xr.DataArray([splitmod(real.item())[0] for real in da.realization],\n",
    "                         dims=('realization',),\n",
    "                         coords={'realization': da.realization}\n",
    "                        )\n",
    "    expN = len(set(model.values))\n",
    "    inds = xce.kkz_reduce_ensemble(da, da.realization.size)\n",
    "    names = [da.realization.isel(realization=i).item() for i in inds]\n",
    "    if repeat:\n",
    "        while len(names) > expN:\n",
    "            firsts = {}\n",
    "            for name in names:\n",
    "                mod = splitmod(name)[0]\n",
    "                if mod not in firsts:\n",
    "                    firsts[mod] = name\n",
    "                else:\n",
    "                    drop = (model == mod) & (da.realization != firsts[mod])\n",
    "                    da = da.sel(realization=~drop)\n",
    "                    break\n",
    "            inds = xce.kkz_reduce_ensemble(da, da.realization.size)\n",
    "            names = [da.realization.isel(realization=i).item() for i in inds]\n",
    "    else:\n",
    "        firsts = []\n",
    "        mods = []\n",
    "        for name in names:\n",
    "            mod = splitmod(name)[0]\n",
    "            if mod not in mods:\n",
    "                mods.append(mod)\n",
    "                firsts.append(name)\n",
    "        names = firsts\n",
    "    return names"
   ]
  },
  {
   "cell_type": "code",
   "execution_count": 19,
   "id": "e5686bab",
   "metadata": {},
   "outputs": [
    {
     "data": {
      "text/plain": [
       "['MIROC_MIROC-ES2L_r1i1p1f2',\n",
       " 'EC-Earth-Consortium_EC-Earth3-Veg-LR_r3i1p1f1',\n",
       " 'CCCma_CanESM5_r13i1p1f1',\n",
       " 'IPSL_IPSL-CM6A-LR_r14i1p1f1',\n",
       " 'MRI_MRI-ESM2-0_r1i1p1f1',\n",
       " 'MPI-M_MPI-ESM1-2-LR_r3i1p1f1',\n",
       " 'CAS_FGOALS-g3_r4i1p1f1',\n",
       " 'NOAA-GFDL_GFDL-CM4_r1i1p1f1',\n",
       " 'MIROC_MIROC6_r1i1p1f1',\n",
       " 'NIMS-KMA_KACE-1-0-G_r1i1p1f1',\n",
       " 'NOAA-GFDL_GFDL-ESM4_r1i1p1f1',\n",
       " 'CMCC_CMCC-ESM2_r1i1p1f1',\n",
       " 'NUIST_NESM3_r1i1p1f1',\n",
       " 'INM_INM-CM4-8_r1i1p1f1',\n",
       " 'CSIRO-ARCCSS_ACCESS-CM2_r3i1p1f1',\n",
       " 'NCC_NorESM2-LM_r1i1p1f1',\n",
       " 'EC-Earth-Consortium_EC-Earth3_r125i1p1f1',\n",
       " 'NCC_NorESM2-MM_r1i1p1f1',\n",
       " 'INM_INM-CM5-0_r1i1p1f1',\n",
       " 'BCC_BCC-CSM2-MR_r1i1p1f1',\n",
       " 'CNRM-CERFACS_CNRM-CM6-1_r1i1p1f2',\n",
       " 'CNRM-CERFACS_CNRM-ESM2-1_r1i1p1f2',\n",
       " 'EC-Earth-Consortium_EC-Earth3-Veg_r4i1p1f1',\n",
       " 'EC-Earth-Consortium_EC-Earth3-CC_r1i1p1f1']"
      ]
     },
     "execution_count": 19,
     "metadata": {},
     "output_type": "execute_result"
    }
   ],
   "source": [
    "names = recursive_kkz(out)\n",
    "names"
   ]
  },
  {
   "cell_type": "code",
   "execution_count": 20,
   "id": "637c92e3",
   "metadata": {},
   "outputs": [
    {
     "data": {
      "text/plain": [
       "['MIROC_MIROC-ES2L_r1i1p1f2',\n",
       " 'EC-Earth-Consortium_EC-Earth3-Veg-LR_r3i1p1f1',\n",
       " 'CCCma_CanESM5_r13i1p1f1',\n",
       " 'IPSL_IPSL-CM6A-LR_r14i1p1f1',\n",
       " 'MRI_MRI-ESM2-0_r1i1p1f1',\n",
       " 'MPI-M_MPI-ESM1-2-LR_r3i1p1f1',\n",
       " 'CAS_FGOALS-g3_r4i1p1f1',\n",
       " 'NOAA-GFDL_GFDL-CM4_r1i1p1f1',\n",
       " 'MIROC_MIROC6_r1i1p1f1',\n",
       " 'NIMS-KMA_KACE-1-0-G_r1i1p1f1',\n",
       " 'NOAA-GFDL_GFDL-ESM4_r1i1p1f1',\n",
       " 'CMCC_CMCC-ESM2_r1i1p1f1',\n",
       " 'NUIST_NESM3_r1i1p1f1',\n",
       " 'INM_INM-CM4-8_r1i1p1f1',\n",
       " 'CSIRO-ARCCSS_ACCESS-CM2_r3i1p1f1',\n",
       " 'NCC_NorESM2-LM_r1i1p1f1',\n",
       " 'EC-Earth-Consortium_EC-Earth3_r125i1p1f1',\n",
       " 'NCC_NorESM2-MM_r1i1p1f1',\n",
       " 'INM_INM-CM5-0_r1i1p1f1',\n",
       " 'BCC_BCC-CSM2-MR_r1i1p1f1',\n",
       " 'CNRM-CERFACS_CNRM-CM6-1_r1i1p1f2',\n",
       " 'CNRM-CERFACS_CNRM-ESM2-1_r1i1p1f2',\n",
       " 'EC-Earth-Consortium_EC-Earth3-Veg_r4i1p1f1',\n",
       " 'EC-Earth-Consortium_EC-Earth3-CC_r1i1p1f1']"
      ]
     },
     "execution_count": 20,
     "metadata": {},
     "output_type": "execute_result"
    }
   ],
   "source": [
    "namescl = recursive_kkz(outscl)\n",
    "namescl"
   ]
  },
  {
   "cell_type": "code",
   "execution_count": 13,
   "id": "19fb28f5",
   "metadata": {},
   "outputs": [
    {
     "data": {
      "image/png": "[encoded data removed]",
      "text/plain": [
       "<Figure size 864x576 with 1 Axes>"
      ]
     },
     "metadata": {
      "needs_background": "light"
     },
     "output_type": "display_data"
    }
   ],
   "source": [
    "fig, ax = plt.subplots(figsize=(12, 8))\n",
    "c, h = color_legend(out.realization)\n",
    "ax.scatter(out.isel(criteria=0), out.isel(criteria=1), c=c)\n",
    "\n",
    "sels = out.sel(realization=names[:12])\n",
    "cent = sels.isel(realization=0)\n",
    "pts = sels.isel(realization=slice(1, None))\n",
    "vec = pts - cent\n",
    "angle = np.arctan2(vec.isel(criteria=1), vec.isel(criteria=0))\n",
    "pts = pts.sortby(angle)\n",
    "pts = xr.concat([pts, pts.isel(realization=0)], 'realization')\n",
    "ce, = ax.plot(cent.isel(criteria=0), cent.isel(criteria=1), 'ks', label='First realization (center)')\n",
    "l, = ax.plot(pts.isel(criteria=0), pts.isel(criteria=1), marker='x', label='Selected realizations (excluding center)')\n",
    "\n",
    "ax.legend(handles=h + [ce, l], bbox_to_anchor=(1.05, 1), loc='upper left', borderaxespad=0.)\n",
    "ax.set_title('KKZ Selection of realizations (showing 12 firsts), 2 first principal components (of 3)')\n",
    "fig.tight_layout()\n",
    "fig.savefig('Figures/Selection_KKZ_2of3PC_12Real.png')"
   ]
  },
  {
   "cell_type": "code",
   "execution_count": null,
   "id": "33cae6fe",
   "metadata": {},
   "outputs": [],
   "source": []
  }
 ],
 "metadata": {
  "kernelspec": {
   "display_name": "analog",
   "language": "python",
   "name": "analog"
  },
  "language_info": {
   "codemirror_mode": {
    "name": "ipython",
    "version": 3
   },
   "file_extension": ".py",
   "mimetype": "text/x-python",
   "name": "python",
   "nbconvert_exporter": "python",
   "pygments_lexer": "ipython3",
   "version": "3.9.12"
  }
 },
 "nbformat": 4,
 "nbformat_minor": 5
}
