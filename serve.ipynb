{
 "cells": [
  {
   "cell_type": "code",
   "execution_count": null,
   "id": "6d762019-0ac4-49cb-9a0e-3f94d1d95e1d",
   "metadata": {},
   "outputs": [],
   "source": [
    "!jupyter nbconvert --to python update_config.ipynb"
   ]
  },
  {
   "cell_type": "code",
   "execution_count": null,
   "id": "6c722bd9-94cd-49b4-b815-a2e0483f2abc",
   "metadata": {},
   "outputs": [],
   "source": [
    "!python update_config.py"
   ]
  },
  {
   "cell_type": "code",
   "execution_count": null,
   "id": "b9912c3d-c738-4ca6-bf73-0cd9ce69dfcd",
   "metadata": {},
   "outputs": [
    {
     "name": "stdout",
     "output_type": "stream",
     "text": [
      "2023-05-15 15:44:03,490 Starting Bokeh server version 2.4.3 (running on Tornado 6.1)\n",
      "2023-05-15 15:44:03,490 Host wildcard '*' will allow connections originating from multiple (or possibly all) hostnames or IPs. Use non-wildcard values to restrict access explicitly\n",
      "2023-05-15 15:44:03,491 User authentication hooks NOT provided (default user enabled)\n",
      "2023-05-15 15:44:03,493 Bokeh app running at: http://localhost:9094/Dashboard\n",
      "2023-05-15 15:44:03,493 Starting Bokeh server with process id: 59814\n",
      "Time to first load: 0.05155611038208008\n",
      "2023-05-15 15:44:07,424 Redefining 'year' (<class 'pint.delegates.txt_defparser.plain.UnitDefinition'>)\n",
      "2023-05-15 15:44:07,424 Redefining 'yr' (<class 'pint.delegates.txt_defparser.plain.UnitDefinition'>)\n",
      "2023-05-15 15:44:07,425 Redefining 'C' (<class 'pint.delegates.txt_defparser.plain.UnitDefinition'>)\n",
      "2023-05-15 15:44:07,427 Redefining 'd' (<class 'pint.delegates.txt_defparser.plain.UnitDefinition'>)\n",
      "2023-05-15 15:44:07,428 Redefining 'h' (<class 'pint.delegates.txt_defparser.plain.UnitDefinition'>)\n",
      "2023-05-15 15:44:07,429 Redefining 'degrees_north' (<class 'pint.delegates.txt_defparser.plain.UnitDefinition'>)\n",
      "2023-05-15 15:44:07,430 Redefining 'degrees_east' (<class 'pint.delegates.txt_defparser.plain.UnitDefinition'>)\n",
      "2023-05-15 15:44:07,432 Redefining '[speed]' (<class 'pint.delegates.txt_defparser.plain.DerivedDimensionDefinition'>)\n",
      "time to full load: 2.624567747116089\n",
      "time to import: 3.4872148036956787\n",
      "Time to load objs: 5.60652756690979\n",
      "time to import: 0.00028705596923828125\n",
      "Time to load objs: 0.37174344062805176\n"
     ]
    }
   ],
   "source": [
    "!panel serve ./Dashboard.ipynb --port=9094 --allow-websocket-origin=* --static-dirs fonts=./fonts"
   ]
  },
  {
   "cell_type": "code",
   "execution_count": null,
   "id": "60efe3fe-00b0-43de-bc5d-dc80f8060766",
   "metadata": {},
   "outputs": [],
   "source": [
    "! ps -ef -o pid,command | grep '[/]bin/sh -c  panel serve' | sed -e 's/^[ \\t]*//' | cut -d ' ' -f 1 | xargs kill"
   ]
  },
  {
   "cell_type": "markdown",
   "id": "894868dd-bf76-4129-958e-05fc321a2b4e",
   "metadata": {},
   "source": [
    "https://pavics.ouranos.ca/jupyter/user-redirect/proxy/9094/Dashboard\n"
   ]
  },
  {
   "cell_type": "code",
   "execution_count": null,
   "id": "bbde53dd-0e0f-469a-9748-536c1b317524",
   "metadata": {},
   "outputs": [],
   "source": []
  }
 ],
 "metadata": {
  "kernelspec": {
   "display_name": "birdy",
   "language": "python",
   "name": "birdy"
  },
  "language_info": {
   "codemirror_mode": {
    "name": "ipython",
    "version": 3
   },
   "file_extension": ".py",
   "mimetype": "text/x-python",
   "name": "python",
   "nbconvert_exporter": "python",
   "pygments_lexer": "ipython3",
   "version": "3.8.15"
  }
 },
 "nbformat": 4,
 "nbformat_minor": 5
}
