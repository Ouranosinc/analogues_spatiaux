{
 "cells": [
  {
   "cell_type": "code",
   "execution_count": null,
   "id": "6d762019-0ac4-49cb-9a0e-3f94d1d95e1d",
   "metadata": {},
   "outputs": [],
   "source": [
    "!jupyter nbconvert --to python update_config.ipynb"
   ]
  },
  {
   "cell_type": "code",
   "execution_count": 122,
   "id": "6c722bd9-94cd-49b4-b815-a2e0483f2abc",
   "metadata": {},
   "outputs": [
    {
     "name": "stdout",
     "output_type": "stream",
     "text": [
      "\u001b[0m"
     ]
    }
   ],
   "source": [
    "!python update_config.py"
   ]
  },
  {
   "cell_type": "code",
   "execution_count": null,
   "id": "b9912c3d-c738-4ca6-bf73-0cd9ce69dfcd",
   "metadata": {},
   "outputs": [
    {
     "name": "stdout",
     "output_type": "stream",
     "text": [
      "2023-07-05 22:00:53,746 Starting Bokeh server version 2.4.3 (running on Tornado 6.1)\n",
      "2023-07-05 22:00:53,747 Host wildcard '*' will allow connections originating from multiple (or possibly all) hostnames or IPs. Use non-wildcard values to restrict access explicitly\n",
      "2023-07-05 22:00:53,748 User authentication hooks NOT provided (default user enabled)\n",
      "2023-07-05 22:00:53,750 Bokeh app running at: http://localhost:9094/Dashboard\n",
      "2023-07-05 22:00:53,750 Starting Bokeh server with process id: 26023\n",
      "time to first load:  0.11469388008117676\n",
      "time to serve:  0.005590915679931641\n",
      "checking package versions...\n",
      "2023-07-05 22:00:55,157 WebSocket connection opened\n",
      "2023-07-05 22:00:55,158 ServerConnection created\n",
      "time to import:  1.367673635482788\n",
      "time to load sidebar:  0.3028132915496826\n"
     ]
    }
   ],
   "source": [
    "!panel serve ./Dashboard.ipynb --port=9094 --allow-websocket-origin=* --static-dirs fonts=./fonts"
   ]
  },
  {
   "cell_type": "code",
   "execution_count": null,
   "id": "60efe3fe-00b0-43de-bc5d-dc80f8060766",
   "metadata": {},
   "outputs": [],
   "source": [
    "! ps -ef -o pid,command | grep '[/]bin/sh -c  panel serve' | sed -e 's/^[ \\t]*//' | cut -d ' ' -f 1 | xargs kill"
   ]
  },
  {
   "cell_type": "markdown",
   "id": "894868dd-bf76-4129-958e-05fc321a2b4e",
   "metadata": {},
   "source": [
    "https://pavics.ouranos.ca/jupyter/user-redirect/proxy/9094/Dashboard\n"
   ]
  }
 ],
 "metadata": {
  "kernelspec": {
   "display_name": "birdy",
   "language": "python",
   "name": "birdy"
  },
  "language_info": {
   "codemirror_mode": {
    "name": "ipython",
    "version": 3
   },
   "file_extension": ".py",
   "mimetype": "text/x-python",
   "name": "python",
   "nbconvert_exporter": "python",
   "pygments_lexer": "ipython3",
   "version": "3.8.16"
  }
 },
 "nbformat": 4,
 "nbformat_minor": 5
}
