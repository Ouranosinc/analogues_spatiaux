{
 "cells": [
  {
   "cell_type": "code",
   "execution_count": null,
   "id": "6d762019-0ac4-49cb-9a0e-3f94d1d95e1d",
   "metadata": {},
   "outputs": [],
   "source": [
    "!jupyter nbconvert --to python update_config.ipynb"
   ]
  },
  {
   "cell_type": "code",
   "execution_count": 48,
   "id": "6c722bd9-94cd-49b4-b815-a2e0483f2abc",
   "metadata": {},
   "outputs": [
    {
     "name": "stdout",
     "output_type": "stream",
     "text": [
      "\u001b[0m"
     ]
    }
   ],
   "source": [
    "!python update_config.py"
   ]
  },
  {
   "cell_type": "code",
   "execution_count": null,
   "id": "b9912c3d-c738-4ca6-bf73-0cd9ce69dfcd",
   "metadata": {},
   "outputs": [
    {
     "name": "stdout",
     "output_type": "stream",
     "text": [
      "2023-04-04 22:10:25,576 Starting Bokeh server version 2.4.3 (running on Tornado 6.1)\n",
      "2023-04-04 22:10:25,577 Host wildcard '*' will allow connections originating from multiple (or possibly all) hostnames or IPs. Use non-wildcard values to restrict access explicitly\n",
      "2023-04-04 22:10:25,577 User authentication hooks NOT provided (default user enabled)\n",
      "2023-04-04 22:10:25,579 Bokeh app running at: http://localhost:9094/Dashboard\n",
      "2023-04-04 22:10:25,579 Starting Bokeh server with process id: 35230\n",
      "Time to first load: 0.0446019172668457\n",
      "2023-04-04 22:10:28,157 Redefining 'year' (<class 'pint.delegates.txt_defparser.plain.UnitDefinition'>)\n",
      "2023-04-04 22:10:28,157 Redefining 'yr' (<class 'pint.delegates.txt_defparser.plain.UnitDefinition'>)\n",
      "2023-04-04 22:10:28,158 Redefining 'C' (<class 'pint.delegates.txt_defparser.plain.UnitDefinition'>)\n",
      "2023-04-04 22:10:28,159 Redefining 'd' (<class 'pint.delegates.txt_defparser.plain.UnitDefinition'>)\n",
      "2023-04-04 22:10:28,160 Redefining 'h' (<class 'pint.delegates.txt_defparser.plain.UnitDefinition'>)\n",
      "2023-04-04 22:10:28,161 Redefining 'degrees_north' (<class 'pint.delegates.txt_defparser.plain.UnitDefinition'>)\n",
      "2023-04-04 22:10:28,162 Redefining 'degrees_east' (<class 'pint.delegates.txt_defparser.plain.UnitDefinition'>)\n",
      "2023-04-04 22:10:28,162 Redefining '[speed]' (<class 'pint.delegates.txt_defparser.plain.DerivedDimensionDefinition'>)\n",
      "time to full load: 2.4507410526275635\n",
      "time to import: 3.3032941818237305\n",
      "Time to load objs: 5.735854625701904\n",
      "WARNING:param.Choice of analogue: Setting non-parameter attribute style={'flex-grow': 0} using a mechanism intended only for parameters\n",
      "2023-04-04 22:10:39,005 Setting non-parameter attribute style={'flex-grow': 0} using a mechanism intended only for parameters\n",
      "time to import: 8.177757263183594e-05\n",
      "Time to load objs: 0.27978968620300293\n",
      "WARNING:param.Choix d'analogue: Setting non-parameter attribute style={'flex-grow': 0} using a mechanism intended only for parameters\n",
      "2023-04-04 22:10:55,366 Setting non-parameter attribute style={'flex-grow': 0} using a mechanism intended only for parameters\n"
     ]
    }
   ],
   "source": [
    "!panel serve ./Dashboard.ipynb --port=9094 --allow-websocket-origin=* --static-dirs fonts=./fonts"
   ]
  },
  {
   "cell_type": "code",
   "execution_count": null,
   "id": "60efe3fe-00b0-43de-bc5d-dc80f8060766",
   "metadata": {},
   "outputs": [],
   "source": [
    "! ps -ef -o pid,command | grep '[/]bin/sh -c  panel serve' | sed -e 's/^[ \\t]*//' | cut -d ' ' -f 1 | xargs kill"
   ]
  },
  {
   "cell_type": "code",
   "execution_count": null,
   "id": "f8578a83-8c3a-479a-8fda-4b5b6f137e73",
   "metadata": {},
   "outputs": [],
   "source": [
    "https://pavics.ouranos.ca/jupyter/user-redirect/proxy/9094/Dashboard"
   ]
  },
  {
   "cell_type": "code",
   "execution_count": null,
   "id": "bbde53dd-0e0f-469a-9748-536c1b317524",
   "metadata": {},
   "outputs": [],
   "source": []
  }
 ],
 "metadata": {
  "kernelspec": {
   "display_name": "birdy",
   "language": "python",
   "name": "birdy"
  },
  "language_info": {
   "codemirror_mode": {
    "name": "ipython",
    "version": 3
   },
   "file_extension": ".py",
   "mimetype": "text/x-python",
   "name": "python",
   "nbconvert_exporter": "python",
   "pygments_lexer": "ipython3",
   "version": "3.8.15"
  }
 },
 "nbformat": 4,
 "nbformat_minor": 5
}
