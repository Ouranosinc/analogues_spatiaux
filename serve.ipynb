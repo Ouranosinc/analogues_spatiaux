{
 "cells": [
  {
   "cell_type": "code",
   "execution_count": null,
   "id": "6d762019-0ac4-49cb-9a0e-3f94d1d95e1d",
   "metadata": {},
   "outputs": [],
   "source": [
    "!jupyter nbconvert --to python update_config.ipynb"
   ]
  },
  {
   "cell_type": "code",
   "execution_count": null,
   "id": "6c722bd9-94cd-49b4-b815-a2e0483f2abc",
   "metadata": {},
   "outputs": [],
   "source": [
    "!python update_config.py"
   ]
  },
  {
   "cell_type": "code",
   "execution_count": null,
   "id": "b9912c3d-c738-4ca6-bf73-0cd9ce69dfcd",
   "metadata": {},
   "outputs": [],
   "source": [
    "!panel serve ./Dashboard.ipynb --port=9094 --allow-websocket-origin=* --static-dirs fonts=./fonts"
   ]
  },
  {
   "cell_type": "code",
   "execution_count": null,
   "id": "60efe3fe-00b0-43de-bc5d-dc80f8060766",
   "metadata": {},
   "outputs": [],
   "source": [
    "! ps -ef -o pid,command | grep '[/]bin/sh -c  panel serve' | sed -e 's/^[ \\t]*//' | cut -d ' ' -f 1 | xargs kill"
   ]
  },
  {
   "cell_type": "code",
   "execution_count": null,
   "id": "f8578a83-8c3a-479a-8fda-4b5b6f137e73",
   "metadata": {},
   "outputs": [],
   "source": [
    "https://pavics.ouranos.ca/jupyter/user-redirect/proxy/9094/Dashboard"
   ]
  },
  {
   "cell_type": "code",
   "execution_count": null,
   "id": "bbde53dd-0e0f-469a-9748-536c1b317524",
   "metadata": {},
   "outputs": [],
   "source": []
  }
 ],
 "metadata": {
  "kernelspec": {
   "display_name": "birdy",
   "language": "python",
   "name": "birdy"
  },
  "language_info": {
   "codemirror_mode": {
    "name": "ipython",
    "version": 3
   },
   "file_extension": ".py",
   "mimetype": "text/x-python",
   "name": "python",
   "nbconvert_exporter": "python",
   "pygments_lexer": "ipython3",
   "version": "3.8.15"
  }
 },
 "nbformat": 4,
 "nbformat_minor": 5
}
