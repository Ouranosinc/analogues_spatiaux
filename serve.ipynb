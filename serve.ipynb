{
 "cells": [
  {
   "cell_type": "code",
   "execution_count": null,
   "id": "6d762019-0ac4-49cb-9a0e-3f94d1d95e1d",
   "metadata": {},
   "outputs": [],
   "source": [
    "!jupyter nbconvert --to python update_config.ipynb"
   ]
  },
  {
   "cell_type": "code",
   "execution_count": 7,
   "id": "6c722bd9-94cd-49b4-b815-a2e0483f2abc",
   "metadata": {},
   "outputs": [
    {
     "name": "stdout",
     "output_type": "stream",
     "text": [
      "\u001b[0m"
     ]
    }
   ],
   "source": [
    "!python update_config.py"
   ]
  },
  {
   "cell_type": "code",
   "execution_count": null,
   "id": "b9912c3d-c738-4ca6-bf73-0cd9ce69dfcd",
   "metadata": {},
   "outputs": [
    {
     "name": "stdout",
     "output_type": "stream",
     "text": [
      "2023-04-03 18:09:30,703 Starting Bokeh server version 2.4.3 (running on Tornado 6.1)\n",
      "2023-04-03 18:09:30,704 Host wildcard '*' will allow connections originating from multiple (or possibly all) hostnames or IPs. Use non-wildcard values to restrict access explicitly\n",
      "2023-04-03 18:09:30,704 User authentication hooks NOT provided (default user enabled)\n",
      "2023-04-03 18:09:30,706 Bokeh app running at: http://localhost:9094/Dashboard\n",
      "2023-04-03 18:09:30,706 Starting Bokeh server with process id: 29999\n",
      "Time to first load: 0.04467916488647461\n",
      "2023-04-03 18:09:34,340 Redefining 'year' (<class 'pint.delegates.txt_defparser.plain.UnitDefinition'>)\n",
      "2023-04-03 18:09:34,340 Redefining 'yr' (<class 'pint.delegates.txt_defparser.plain.UnitDefinition'>)\n",
      "2023-04-03 18:09:34,341 Redefining 'C' (<class 'pint.delegates.txt_defparser.plain.UnitDefinition'>)\n",
      "2023-04-03 18:09:34,342 Redefining 'd' (<class 'pint.delegates.txt_defparser.plain.UnitDefinition'>)\n",
      "2023-04-03 18:09:34,343 Redefining 'h' (<class 'pint.delegates.txt_defparser.plain.UnitDefinition'>)\n",
      "2023-04-03 18:09:34,344 Redefining 'degrees_north' (<class 'pint.delegates.txt_defparser.plain.UnitDefinition'>)\n",
      "2023-04-03 18:09:34,345 Redefining 'degrees_east' (<class 'pint.delegates.txt_defparser.plain.UnitDefinition'>)\n",
      "2023-04-03 18:09:34,345 Redefining '[speed]' (<class 'pint.delegates.txt_defparser.plain.DerivedDimensionDefinition'>)\n",
      "time to full load: 2.4317848682403564\n",
      "time to import: 3.1182470321655273\n",
      "Time to load objs: 1.8227758407592773\n",
      "WARNING:param.GeoOverlayPlot03850: responsive mode could not be enabled because fixed width and height were specified.\n",
      "2023-04-03 18:13:02,316 responsive mode could not be enabled because fixed width and height were specified.\n",
      "WARNING:param.GeoOverlayPlot03850: aspect value was ignored because absolute width and height values were provided. Either supply explicit frame_width and frame_height to achieve desired aspect OR supply a combination of width or height and an aspect value.\n",
      "2023-04-03 18:13:02,316 aspect value was ignored because absolute width and height values were provided. Either supply explicit frame_width and frame_height to achieve desired aspect OR supply a combination of width or height and an aspect value.\n",
      "WARNING:param.GeoOverlayPlot05662: responsive mode could not be enabled because fixed width and height were specified.\n",
      "2023-04-03 18:13:24,541 responsive mode could not be enabled because fixed width and height were specified.\n",
      "WARNING:param.GeoOverlayPlot05662: aspect value was ignored because absolute width and height values were provided. Either supply explicit frame_width and frame_height to achieve desired aspect OR supply a combination of width or height and an aspect value.\n",
      "2023-04-03 18:13:24,541 aspect value was ignored because absolute width and height values were provided. Either supply explicit frame_width and frame_height to achieve desired aspect OR supply a combination of width or height and an aspect value.\n",
      "WARNING:param.GeoOverlayPlot07473: responsive mode could not be enabled because fixed width and height were specified.\n",
      "2023-04-03 18:13:43,221 responsive mode could not be enabled because fixed width and height were specified.\n",
      "WARNING:param.GeoOverlayPlot07473: aspect value was ignored because absolute width and height values were provided. Either supply explicit frame_width and frame_height to achieve desired aspect OR supply a combination of width or height and an aspect value.\n",
      "2023-04-03 18:13:43,221 aspect value was ignored because absolute width and height values were provided. Either supply explicit frame_width and frame_height to achieve desired aspect OR supply a combination of width or height and an aspect value.\n",
      "WARNING:param.GeoOverlayPlot09314: responsive mode could not be enabled because fixed width and height were specified.\n",
      "2023-04-03 18:13:44,097 responsive mode could not be enabled because fixed width and height were specified.\n",
      "WARNING:param.GeoOverlayPlot09314: aspect value was ignored because absolute width and height values were provided. Either supply explicit frame_width and frame_height to achieve desired aspect OR supply a combination of width or height and an aspect value.\n",
      "2023-04-03 18:13:44,097 aspect value was ignored because absolute width and height values were provided. Either supply explicit frame_width and frame_height to achieve desired aspect OR supply a combination of width or height and an aspect value.\n",
      "time to import: 0.00017142295837402344\n",
      "Time to load objs: 0.26447415351867676\n",
      "time to import: 9.942054748535156e-05\n",
      "Time to load objs: 0.24786734580993652\n",
      "time to import: 6.079673767089844e-05\n",
      "Time to load objs: 0.25634765625\n",
      "WARNING:param.GeoOverlayPlot12021: responsive mode could not be enabled because fixed width and height were specified.\n",
      "2023-04-03 18:55:00,562 responsive mode could not be enabled because fixed width and height were specified.\n",
      "WARNING:param.GeoOverlayPlot12021: aspect value was ignored because absolute width and height values were provided. Either supply explicit frame_width and frame_height to achieve desired aspect OR supply a combination of width or height and an aspect value.\n",
      "2023-04-03 18:55:00,562 aspect value was ignored because absolute width and height values were provided. Either supply explicit frame_width and frame_height to achieve desired aspect OR supply a combination of width or height and an aspect value.\n",
      "WARNING:param.GeoOverlayPlot14804: responsive mode could not be enabled because fixed width and height were specified.\n",
      "2023-04-03 18:55:54,995 responsive mode could not be enabled because fixed width and height were specified.\n",
      "WARNING:param.GeoOverlayPlot14804: aspect value was ignored because absolute width and height values were provided. Either supply explicit frame_width and frame_height to achieve desired aspect OR supply a combination of width or height and an aspect value.\n",
      "2023-04-03 18:55:54,995 aspect value was ignored because absolute width and height values were provided. Either supply explicit frame_width and frame_height to achieve desired aspect OR supply a combination of width or height and an aspect value.\n",
      "WARNING:param.GeoOverlayPlot17150: responsive mode could not be enabled because fixed width and height were specified.\n",
      "2023-04-03 18:56:02,396 responsive mode could not be enabled because fixed width and height were specified.\n",
      "WARNING:param.GeoOverlayPlot17150: aspect value was ignored because absolute width and height values were provided. Either supply explicit frame_width and frame_height to achieve desired aspect OR supply a combination of width or height and an aspect value.\n",
      "2023-04-03 18:56:02,396 aspect value was ignored because absolute width and height values were provided. Either supply explicit frame_width and frame_height to achieve desired aspect OR supply a combination of width or height and an aspect value.\n",
      "WARNING:param.GeoOverlayPlot19496: responsive mode could not be enabled because fixed width and height were specified.\n",
      "2023-04-03 18:56:07,790 responsive mode could not be enabled because fixed width and height were specified.\n",
      "WARNING:param.GeoOverlayPlot19496: aspect value was ignored because absolute width and height values were provided. Either supply explicit frame_width and frame_height to achieve desired aspect OR supply a combination of width or height and an aspect value.\n",
      "2023-04-03 18:56:07,790 aspect value was ignored because absolute width and height values were provided. Either supply explicit frame_width and frame_height to achieve desired aspect OR supply a combination of width or height and an aspect value.\n",
      "WARNING:param.GeoOverlayPlot21842: responsive mode could not be enabled because fixed width and height were specified.\n",
      "2023-04-03 18:56:13,206 responsive mode could not be enabled because fixed width and height were specified.\n",
      "WARNING:param.GeoOverlayPlot21842: aspect value was ignored because absolute width and height values were provided. Either supply explicit frame_width and frame_height to achieve desired aspect OR supply a combination of width or height and an aspect value.\n",
      "2023-04-03 18:56:13,207 aspect value was ignored because absolute width and height values were provided. Either supply explicit frame_width and frame_height to achieve desired aspect OR supply a combination of width or height and an aspect value.\n",
      "WARNING:param.GeoOverlayPlot24188: responsive mode could not be enabled because fixed width and height were specified.\n",
      "2023-04-03 18:56:25,310 responsive mode could not be enabled because fixed width and height were specified.\n",
      "WARNING:param.GeoOverlayPlot24188: aspect value was ignored because absolute width and height values were provided. Either supply explicit frame_width and frame_height to achieve desired aspect OR supply a combination of width or height and an aspect value.\n",
      "2023-04-03 18:56:25,310 aspect value was ignored because absolute width and height values were provided. Either supply explicit frame_width and frame_height to achieve desired aspect OR supply a combination of width or height and an aspect value.\n",
      "WARNING:param.GeoOverlayPlot27054: responsive mode could not be enabled because fixed width and height were specified.\n",
      "2023-04-03 18:56:47,911 responsive mode could not be enabled because fixed width and height were specified.\n",
      "WARNING:param.GeoOverlayPlot27054: aspect value was ignored because absolute width and height values were provided. Either supply explicit frame_width and frame_height to achieve desired aspect OR supply a combination of width or height and an aspect value.\n",
      "2023-04-03 18:56:47,911 aspect value was ignored because absolute width and height values were provided. Either supply explicit frame_width and frame_height to achieve desired aspect OR supply a combination of width or height and an aspect value.\n",
      "WARNING:param.GeoOverlayPlot28916: responsive mode could not be enabled because fixed width and height were specified.\n",
      "2023-04-03 18:57:45,297 responsive mode could not be enabled because fixed width and height were specified.\n",
      "WARNING:param.GeoOverlayPlot28916: aspect value was ignored because absolute width and height values were provided. Either supply explicit frame_width and frame_height to achieve desired aspect OR supply a combination of width or height and an aspect value.\n",
      "2023-04-03 18:57:45,297 aspect value was ignored because absolute width and height values were provided. Either supply explicit frame_width and frame_height to achieve desired aspect OR supply a combination of width or height and an aspect value.\n",
      "WARNING:param.GeoOverlayPlot31050: responsive mode could not be enabled because fixed width and height were specified.\n",
      "2023-04-03 18:57:52,189 responsive mode could not be enabled because fixed width and height were specified.\n",
      "WARNING:param.GeoOverlayPlot31050: aspect value was ignored because absolute width and height values were provided. Either supply explicit frame_width and frame_height to achieve desired aspect OR supply a combination of width or height and an aspect value.\n",
      "2023-04-03 18:57:52,189 aspect value was ignored because absolute width and height values were provided. Either supply explicit frame_width and frame_height to achieve desired aspect OR supply a combination of width or height and an aspect value.\n",
      "WARNING:param.GeoOverlayPlot33184: responsive mode could not be enabled because fixed width and height were specified.\n",
      "2023-04-03 18:57:58,037 responsive mode could not be enabled because fixed width and height were specified.\n",
      "WARNING:param.GeoOverlayPlot33184: aspect value was ignored because absolute width and height values were provided. Either supply explicit frame_width and frame_height to achieve desired aspect OR supply a combination of width or height and an aspect value.\n",
      "2023-04-03 18:57:58,037 aspect value was ignored because absolute width and height values were provided. Either supply explicit frame_width and frame_height to achieve desired aspect OR supply a combination of width or height and an aspect value.\n",
      "WARNING:param.GeoOverlayPlot35318: responsive mode could not be enabled because fixed width and height were specified.\n",
      "2023-04-03 18:58:02,663 responsive mode could not be enabled because fixed width and height were specified.\n",
      "WARNING:param.GeoOverlayPlot35318: aspect value was ignored because absolute width and height values were provided. Either supply explicit frame_width and frame_height to achieve desired aspect OR supply a combination of width or height and an aspect value.\n",
      "2023-04-03 18:58:02,663 aspect value was ignored because absolute width and height values were provided. Either supply explicit frame_width and frame_height to achieve desired aspect OR supply a combination of width or height and an aspect value.\n",
      "WARNING:param.GeoOverlayPlot37452: responsive mode could not be enabled because fixed width and height were specified.\n",
      "2023-04-03 18:58:09,675 responsive mode could not be enabled because fixed width and height were specified.\n",
      "WARNING:param.GeoOverlayPlot37452: aspect value was ignored because absolute width and height values were provided. Either supply explicit frame_width and frame_height to achieve desired aspect OR supply a combination of width or height and an aspect value.\n",
      "2023-04-03 18:58:09,675 aspect value was ignored because absolute width and height values were provided. Either supply explicit frame_width and frame_height to achieve desired aspect OR supply a combination of width or height and an aspect value.\n",
      "[########################################] | 100% Completed | 705.62 ms\n",
      "[########################################] | 100% Completed | 702.73 ms\n",
      "WARNING:param.GeoOverlayPlot40083: responsive mode could not be enabled because fixed width and height were specified.\n",
      "2023-04-03 18:59:55,588 responsive mode could not be enabled because fixed width and height were specified.\n",
      "WARNING:param.GeoOverlayPlot40083: aspect value was ignored because absolute width and height values were provided. Either supply explicit frame_width and frame_height to achieve desired aspect OR supply a combination of width or height and an aspect value.\n",
      "2023-04-03 18:59:55,588 aspect value was ignored because absolute width and height values were provided. Either supply explicit frame_width and frame_height to achieve desired aspect OR supply a combination of width or height and an aspect value.\n"
     ]
    }
   ],
   "source": [
    "!panel serve ./Dashboard.ipynb --port=9094 --allow-websocket-origin=* --static-dirs fonts=./fonts"
   ]
  },
  {
   "cell_type": "code",
   "execution_count": null,
   "id": "60efe3fe-00b0-43de-bc5d-dc80f8060766",
   "metadata": {},
   "outputs": [],
   "source": [
    "! ps -ef -o pid,command | grep '[/]bin/sh -c  panel serve' | sed -e 's/^[ \\t]*//' | cut -d ' ' -f 1 | xargs kill"
   ]
  },
  {
   "cell_type": "code",
   "execution_count": null,
   "id": "f8578a83-8c3a-479a-8fda-4b5b6f137e73",
   "metadata": {},
   "outputs": [],
   "source": []
  },
  {
   "cell_type": "code",
   "execution_count": null,
   "id": "bbde53dd-0e0f-469a-9748-536c1b317524",
   "metadata": {},
   "outputs": [],
   "source": []
  }
 ],
 "metadata": {
  "kernelspec": {
   "display_name": "birdy",
   "language": "python",
   "name": "birdy"
  },
  "language_info": {
   "codemirror_mode": {
    "name": "ipython",
    "version": 3
   },
   "file_extension": ".py",
   "mimetype": "text/x-python",
   "name": "python",
   "nbconvert_exporter": "python",
   "pygments_lexer": "ipython3",
   "version": "3.8.15"
  }
 },
 "nbformat": 4,
 "nbformat_minor": 5
}
