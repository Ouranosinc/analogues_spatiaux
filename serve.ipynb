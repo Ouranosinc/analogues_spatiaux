{
 "cells": [
  {
   "cell_type": "code",
   "execution_count": 1,
   "id": "6d762019-0ac4-49cb-9a0e-3f94d1d95e1d",
   "metadata": {},
   "outputs": [
    {
     "name": "stdout",
     "output_type": "stream",
     "text": [
      "[NbConvertApp] Converting notebook update_config.ipynb to python\n",
      "[NbConvertApp] Writing 7140 bytes to update_config.py\n"
     ]
    }
   ],
   "source": [
    "!jupyter nbconvert --to python update_config.ipynb"
   ]
  },
  {
   "cell_type": "code",
   "execution_count": 94,
   "id": "6c722bd9-94cd-49b4-b815-a2e0483f2abc",
   "metadata": {},
   "outputs": [
    {
     "name": "stdout",
     "output_type": "stream",
     "text": [
      "\u001b[0m"
     ]
    }
   ],
   "source": [
    "!python update_config.py"
   ]
  },
  {
   "cell_type": "code",
   "execution_count": null,
   "id": "b9912c3d-c738-4ca6-bf73-0cd9ce69dfcd",
   "metadata": {},
   "outputs": [
    {
     "name": "stdout",
     "output_type": "stream",
     "text": [
      "2023-04-01 19:39:05,108 Starting Bokeh server version 2.4.3 (running on Tornado 6.1)\n",
      "2023-04-01 19:39:05,109 Host wildcard '*' will allow connections originating from multiple (or possibly all) hostnames or IPs. Use non-wildcard values to restrict access explicitly\n",
      "2023-04-01 19:39:05,109 User authentication hooks NOT provided (default user enabled)\n",
      "2023-04-01 19:39:05,111 Bokeh app running at: http://localhost:9094/Dashboard\n",
      "2023-04-01 19:39:05,111 Starting Bokeh server with process id: 24460\n",
      "Time to first load: 0.043273210525512695\n",
      "2023-04-01 19:39:08,425 Redefining 'year' (<class 'pint.delegates.txt_defparser.plain.UnitDefinition'>)\n",
      "2023-04-01 19:39:08,425 Redefining 'yr' (<class 'pint.delegates.txt_defparser.plain.UnitDefinition'>)\n",
      "2023-04-01 19:39:08,426 Redefining 'C' (<class 'pint.delegates.txt_defparser.plain.UnitDefinition'>)\n",
      "2023-04-01 19:39:08,427 Redefining 'd' (<class 'pint.delegates.txt_defparser.plain.UnitDefinition'>)\n",
      "2023-04-01 19:39:08,428 Redefining 'h' (<class 'pint.delegates.txt_defparser.plain.UnitDefinition'>)\n",
      "2023-04-01 19:39:08,429 Redefining 'degrees_north' (<class 'pint.delegates.txt_defparser.plain.UnitDefinition'>)\n",
      "2023-04-01 19:39:08,429 Redefining 'degrees_east' (<class 'pint.delegates.txt_defparser.plain.UnitDefinition'>)\n",
      "2023-04-01 19:39:08,430 Redefining '[speed]' (<class 'pint.delegates.txt_defparser.plain.DerivedDimensionDefinition'>)\n",
      "time to full load: 2.448758363723755\n",
      "2023-04-01 19:39:09,568 - bokeh.application.application - ERROR - Error running application handler <bokeh.application.handlers.notebook.NotebookHandler object at 0x7f0d31035b80>: name 'dsim' is not defined\n",
      "File 'Dashboard.ipynb', line 527, in <module>:\n",
      "\"To use this dashboard from within PAVICS and have it run in your user account use the first line of the next cell (`s = dash.show(...)`) and comment the second one (`dash.servable()`). In that case, if you want to update the dashboard after making changes, don't forget to run `s.stop()` before rerunning  `s = dash.show(...)`.\" Traceback (most recent call last):\n",
      "  File \"/opt/conda/envs/birdy/lib/python3.8/site-packages/bokeh/application/handlers/code_runner.py\", line 231, in run\n",
      "    exec(self._code, module.__dict__)\n",
      "  File \"/notebook_dir/mypublic/analogues/Dashboard.ipynb\", line 527, in <module>\n",
      "    \"To use this dashboard from within PAVICS and have it run in your user account use the first line of the next cell (`s = dash.show(...)`) and comment the second one (`dash.servable()`). In that case, if you want to update the dashboard after making changes, don't forget to run `s.stop()` before rerunning  `s = dash.show(...)`.\"\n",
      "NameError: name 'dsim' is not defined\n",
      " \n",
      "time to import: 3.251086711883545\n",
      "Time to load objs: 2.9864559173583984\n",
      "WARNING:param.GeoOverlayPlot03823: responsive mode could not be enabled because fixed width and height were specified.\n",
      "2023-04-01 19:40:07,912 responsive mode could not be enabled because fixed width and height were specified.\n",
      "WARNING:param.GeoOverlayPlot03823: aspect value was ignored because absolute width and height values were provided. Either supply explicit frame_width and frame_height to achieve desired aspect OR supply a combination of width or height and an aspect value.\n",
      "2023-04-01 19:40:07,912 aspect value was ignored because absolute width and height values were provided. Either supply explicit frame_width and frame_height to achieve desired aspect OR supply a combination of width or height and an aspect value.\n",
      "WARNING:param.GeoOverlayPlot05634: responsive mode could not be enabled because fixed width and height were specified.\n",
      "2023-04-01 19:40:11,276 responsive mode could not be enabled because fixed width and height were specified.\n",
      "WARNING:param.GeoOverlayPlot05634: aspect value was ignored because absolute width and height values were provided. Either supply explicit frame_width and frame_height to achieve desired aspect OR supply a combination of width or height and an aspect value.\n",
      "2023-04-01 19:40:11,276 aspect value was ignored because absolute width and height values were provided. Either supply explicit frame_width and frame_height to achieve desired aspect OR supply a combination of width or height and an aspect value.\n",
      "WARNING:param.GeoOverlayPlot07475: responsive mode could not be enabled because fixed width and height were specified.\n",
      "2023-04-01 19:40:12,403 responsive mode could not be enabled because fixed width and height were specified.\n",
      "WARNING:param.GeoOverlayPlot07475: aspect value was ignored because absolute width and height values were provided. Either supply explicit frame_width and frame_height to achieve desired aspect OR supply a combination of width or height and an aspect value.\n",
      "2023-04-01 19:40:12,403 aspect value was ignored because absolute width and height values were provided. Either supply explicit frame_width and frame_height to achieve desired aspect OR supply a combination of width or height and an aspect value.\n"
     ]
    }
   ],
   "source": [
    "!panel serve ./Dashboard.ipynb --port=9094 --allow-websocket-origin=* --static-dirs fonts=./fonts"
   ]
  },
  {
   "cell_type": "code",
   "execution_count": 25,
   "id": "60efe3fe-00b0-43de-bc5d-dc80f8060766",
   "metadata": {},
   "outputs": [
    {
     "name": "stdout",
     "output_type": "stream",
     "text": [
      "\n",
      "Usage:\n",
      " kill [options] <pid> [...]\n",
      "\n",
      "Options:\n",
      " <pid> [...]            send signal to every <pid> listed\n",
      " -<signal>, -s, --signal <signal>\n",
      "                        specify the <signal> to be sent\n",
      " -q, --queue <value>    integer value to be sent with the signal\n",
      " -l, --list=[<signal>]  list all signal names, or convert one to a name\n",
      " -L, --table            list all signal names in a nice table\n",
      "\n",
      " -h, --help     display this help and exit\n",
      " -V, --version  output version information and exit\n",
      "\n",
      "For more details see kill(1).\n"
     ]
    }
   ],
   "source": [
    "! ps -ef -o pid,command | grep '[/]bin/sh -c  panel serve' | sed -e 's/^[ \\t]*//' | cut -d ' ' -f 1 | xargs kill"
   ]
  },
  {
   "cell_type": "code",
   "execution_count": 43,
   "id": "f8578a83-8c3a-479a-8fda-4b5b6f137e73",
   "metadata": {},
   "outputs": [
    {
     "name": "stdout",
     "output_type": "stream",
     "text": [
      "\u001b[0m"
     ]
    }
   ],
   "source": []
  },
  {
   "cell_type": "code",
   "execution_count": null,
   "id": "bbde53dd-0e0f-469a-9748-536c1b317524",
   "metadata": {},
   "outputs": [],
   "source": []
  }
 ],
 "metadata": {
  "kernelspec": {
   "display_name": "birdy",
   "language": "python",
   "name": "birdy"
  },
  "language_info": {
   "codemirror_mode": {
    "name": "ipython",
    "version": 3
   },
   "file_extension": ".py",
   "mimetype": "text/x-python",
   "name": "python",
   "nbconvert_exporter": "python",
   "pygments_lexer": "ipython3",
   "version": "3.8.15"
  }
 },
 "nbformat": 4,
 "nbformat_minor": 5
}
