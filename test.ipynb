{
 "cells": [
  {
   "cell_type": "code",
   "execution_count": null,
   "id": "ab0414a4-45a1-4c55-9343-1380a96fd81b",
   "metadata": {},
   "outputs": [],
   "source": [
    "!python test_connection.py"
   ]
  },
  {
   "cell_type": "code",
   "execution_count": null,
   "id": "d5c26ba7-1cd4-4734-b224-19fce1b9f20b",
   "metadata": {},
   "outputs": [],
   "source": [
    "from selenium import webdriver\n",
    "from selenium.webdriver.firefox.options import Options\n",
    "options = Options()\n",
    "browser = webdriver.Firefox(options=options)\n",
    "browser.get('http://selenium.dev/')"
   ]
  },
  {
   "cell_type": "code",
   "execution_count": null,
   "id": "5651abfb-408b-47c6-8232-46f3db2719a9",
   "metadata": {},
   "outputs": [],
   "source": []
  }
 ],
 "metadata": {
  "kernelspec": {
   "display_name": "birdy",
   "language": "python",
   "name": "birdy"
  },
  "language_info": {
   "codemirror_mode": {
    "name": "ipython",
    "version": 3
   },
   "file_extension": ".py",
   "mimetype": "text/x-python",
   "name": "python",
   "nbconvert_exporter": "python",
   "pygments_lexer": "ipython3",
   "version": "3.8.16"
  }
 },
 "nbformat": 4,
 "nbformat_minor": 5
}
