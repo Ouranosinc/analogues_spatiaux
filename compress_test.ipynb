{
 "cells": [
  {
   "cell_type": "code",
   "execution_count": null,
   "id": "5bd62de2-af89-4d26-ae46-4ab8a8a0955a",
   "metadata": {},
   "outputs": [],
   "source": [
    "from collections import namedtuple\n",
    "import json\n",
    "from pathlib import Path\n",
    "import panel as pn\n",
    "\n",
    "## Load config:\n",
    "config_path = Path('config.json')\n",
    "if not config_path.is_file():\n",
    "    !python update_config.py\n",
    "if config_path.is_file():\n",
    "    with open(config_path,encoding='utf-8') as config_file:\n",
    "        config = json.load(config_file)\n",
    "else:\n",
    "    raise ValueError(\"config.json doesn't exist!\")\n",
    "\n",
    "import dask\n",
    "from dask.diagnostics import ProgressBar\n",
    "import geopandas as gpd\n",
    "import geoviews as gv\n",
    "import holoviews as hv\n",
    "import hvplot.xarray\n",
    "from io import StringIO\n",
    "import numpy as np\n",
    "import pandas as pd\n",
    "from panel.viewable import Viewer\n",
    "from bokeh.models import HoverTool\n",
    "import param\n",
    "from shapely.geometry import Point, LineString\n",
    "import xarray as xr\n",
    "import xclim as xc\n",
    "from xclim import analog as xa\n",
    "from datetime import datetime\n",
    "import pickle\n",
    "import joblib\n",
    "import warnings\n",
    "from shapely.errors import ShapelyDeprecationWarning\n",
    "from core import utils,compress,search\n"
   ]
  },
  {
   "cell_type": "code",
   "execution_count": null,
   "id": "dcb57c76-f6b8-4bf0-97ba-037f7477e28a",
   "metadata": {},
   "outputs": [],
   "source": [
    "dask.config.set(scheduler=config[\"options\"][\"dask_schedule\"], temporary_directory='/notebook_dir/writable-workspace/tmp')\n",
    "try:\n",
    "    curr_dir = Path(__file__).parent\n",
    "except NameError:  # When running as a notebook \"__file__\" isn't defined.\n",
    "    curr_dir = Path('.')\n",
    "cities_file = f'{curr_dir}/cities_tmp.geojson'\n",
    "\n",
    "# Projection\n",
    "biasadjust = config[\"options\"][\"biasadjust\"] # scaling or dqm the method used for the annual adjustment method\n",
    "\n",
    "# Random city on load\n",
    "init_rand_city = config[\"options\"][\"init_rand_city\"]\n",
    "\n",
    "# Data\n",
    "dref = utils.open_thredds(\n",
    "    config[\"url\"][\"dref\"]\n",
    ").chunk({'time': -1}).sel(time=slice('1991', '2020'))\n",
    "\n",
    "dsim = utils.open_thredds(config[\"url\"][\"dsim\"])\n",
    "dsim = xc.core.calendar.convert_calendar(dsim, 'default')\n",
    "\n",
    "places = gpd.read_file(config[\"url\"][\"places\"]).to_crs(epsg=8858)\n",
    "\n",
    "cities = gpd.read_file(cities_file)\n",
    "\n",
    "# Pre-compute/download the reference distributions and the density map\n",
    "if not Path('benchmark.obj').is_file():\n",
    "    benchmark = utils.open_thredds(config[\"url\"][\"benchmark\"]).benchmark.load()\n",
    "\n",
    "    with open('benchmark.obj', 'wb') as obj_handler:\n",
    "        pickle.dump(benchmark, obj_handler)\n",
    "else:\n",
    "    with open('benchmark.obj', 'rb') as obj_handler:\n",
    "        benchmark = pickle.load(obj_handler)\n",
    "\n",
    "if not Path('density.obj').is_file():\n",
    "    masks = utils.open_thredds(config[\"url\"][\"masks\"])\n",
    "\n",
    "    density = masks.dens_adj.sel(year=2020).where(\n",
    "        masks.roi & dref.isel(time=0).notnull().to_array().all('variable')\n",
    "    ).load()\n",
    "\n",
    "    with open('density.obj', 'wb') as obj_handler:\n",
    "        pickle.dump(density, obj_handler)\n",
    "\n",
    "# load pickled data\n",
    "else:\n",
    "    with open('density.obj', 'rb') as obj_handler:\n",
    "        density = pickle.load(obj_handler)"
   ]
  },
  {
   "cell_type": "code",
   "execution_count": null,
   "id": "db62b712-d52f-4dd5-80df-89fd61aa5b37",
   "metadata": {},
   "outputs": [],
   "source": [
    "best_analog_mode = 'closestPer'  # closestN or min, see below\n",
    "analog_modes = ['closestPer','closestN','min']\n",
    "icity = 0\n",
    "city = cities.iloc[icity]\n",
    "climate_indices = ['TNn']\n",
    "all_indices = [x.name for k,x in dsim.data_vars.items()]\n",
    "tgt_period = slice(\"2041\", \"2070\")\n",
    "opts = {{\"en\":f\"{x-29}-{x}\",\"fr\":f\"{x-29} à {x}\"}[\"en\"]: slice(f\"{x-29}\", f\"{x}\") for x in range(2020, 2101, 10)}\n",
    "periods = list(opts.values())\n",
    "ssp = 'ssp245'\n",
    "ssp_list = dsim.ssp.values\n",
    "num_realizations = 12\n",
    "max_real = 12\n",
    "density_factor = 4\n",
    "max_density = 10"
   ]
  },
  {
   "cell_type": "code",
   "execution_count": null,
   "id": "f94bd1f9-bd2c-4d2e-b26d-8c1b6f6aba28",
   "metadata": {},
   "outputs": [],
   "source": [
    "ana = search.analogs( dsim,\n",
    "             dref,\n",
    "             density,\n",
    "             benchmark,\n",
    "             city,cities,places,\n",
    "             climate_indices,\n",
    "             density_factor,max_density,\n",
    "             tgt_period,periods,\n",
    "             ssp,ssp_list,\n",
    "             best_analog_mode=best_analog_mode, analog_modes=analog_modes,\n",
    "             num_realizations=num_realizations, max_real=max_real)"
   ]
  },
  {
   "cell_type": "code",
   "execution_count": null,
   "id": "986c393e-5a85-474f-82ca-77ba40413af1",
   "metadata": {},
   "outputs": [],
   "source": [
    "sim = ana[1]\n",
    "ref = ana[2]\n",
    "sim_tgt = sim.sel(time=tgt_period).drop_vars(['lon', 'lat'])\n",
    "dissimilarity = xa.spatial_analogs(\n",
    "    sim_tgt, ref, dist_dim='time', method='zech_aslan'\n",
    ")\n",
    "simzscore = xa.spatial_analogs(\n",
    "    sim_tgt.mean('realization'), sim_tgt, dist_dim='time', method='seuclidean'\n",
    ")\n",
    "percs = utils.get_score_percentile(dissimilarity, climate_indices, benchmark)\n",
    "ilat_ref = density.indexes[\"lat\"]\n",
    "ilon_ref = density.indexes[\"lon\"]\n",
    "utils.inplace_compute(sim, ref)\n",
    "dissimilarity, percs, simzscore = dask.compute(dissimilarity, percs, simzscore)\n",
    "\n",
    "diss = dissimilarity.isel(realization=0)\n",
    "dists = utils.get_distances(diss.lon, diss.lat, city.geometry)"
   ]
  },
  {
   "cell_type": "code",
   "execution_count": null,
   "id": "af2e87d1-0883-4e8f-a992-7c02af1f818c",
   "metadata": {},
   "outputs": [],
   "source": [
    "utils.get_distances([city.lon_raw],[city.lat_raw],city.geometry)"
   ]
  },
  {
   "cell_type": "code",
   "execution_count": null,
   "id": "252c0756-c9a4-4a45-98cd-61cb1847a4fd",
   "metadata": {},
   "outputs": [],
   "source": [
    "df = gpd.GeoDataFrame(geometry=[Point(city.lon_raw,city.lat_raw)], crs=4326)\n",
    "df.to_crs(epsg=8858).distance(gpd.GeoDataFrame(geometry=[city.geometry], crs=4326).to_crs(epsg=8858))"
   ]
  },
  {
   "cell_type": "code",
   "execution_count": null,
   "id": "84dffa08-8247-4411-a2b4-183afaaff097",
   "metadata": {},
   "outputs": [],
   "source": [
    "gpd.GeoDataFrame(geometry=[city.geometry], crs=4326)"
   ]
  },
  {
   "cell_type": "code",
   "execution_count": null,
   "id": "95d85885-b87d-4fca-9908-20cec14648af",
   "metadata": {},
   "outputs": [],
   "source": [
    "city.lat_raw"
   ]
  },
  {
   "cell_type": "code",
   "execution_count": null,
   "id": "1055faf0-2252-4e8d-afa2-f4ede76ad94b",
   "metadata": {},
   "outputs": [],
   "source": [
    "import base64"
   ]
  },
  {
   "cell_type": "code",
   "execution_count": null,
   "id": "747e9354-d6da-42a1-898a-c126b6975ced",
   "metadata": {},
   "outputs": [],
   "source": [
    "base64.b85encode(bytes(bytelistB))"
   ]
  },
  {
   "cell_type": "code",
   "execution_count": null,
   "id": "c3c254a0-5422-4cad-9f17-3a82e4d682bc",
   "metadata": {},
   "outputs": [],
   "source": [
    "import time\n",
    "t0 = time.time()\n",
    "import clisops.subset as cc\n",
    "t1 = time.time()\n",
    "print(t0 - t1)"
   ]
  },
  {
   "cell_type": "code",
   "execution_count": null,
   "id": "b81a41b3-846b-42f7-9e71-14adebb2a3d1",
   "metadata": {},
   "outputs": [],
   "source": [
    "from clisops.core.subset import distance"
   ]
  },
  {
   "cell_type": "code",
   "execution_count": null,
   "id": "790b23a7-db34-45e0-be6a-fb3d56de3327",
   "metadata": {},
   "outputs": [],
   "source": []
  }
 ],
 "metadata": {
  "kernelspec": {
   "display_name": "birdy",
   "language": "python",
   "name": "birdy"
  },
  "language_info": {
   "codemirror_mode": {
    "name": "ipython",
    "version": 3
   },
   "file_extension": ".py",
   "mimetype": "text/x-python",
   "name": "python",
   "nbconvert_exporter": "python",
   "pygments_lexer": "ipython3",
   "version": "3.8.15"
  }
 },
 "nbformat": 4,
 "nbformat_minor": 5
}
