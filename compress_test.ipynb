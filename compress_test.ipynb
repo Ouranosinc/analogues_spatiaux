{
 "cells": [
  {
   "cell_type": "code",
   "execution_count": 3,
   "id": "eaa65bb2-7359-46a3-8266-eda651e61435",
   "metadata": {},
   "outputs": [],
   "source": [
    "from joblib import Memory\n",
    "cachedir = \"./cache/\"\n",
    "mem = Memory(cachedir, verbose=0, bytes_limit=1e9, compress=9)"
   ]
  },
  {
   "cell_type": "code",
   "execution_count": 4,
   "id": "99bda221-dc60-4f1e-b831-a27447be3998",
   "metadata": {},
   "outputs": [],
   "source": [
    "\n",
    "@mem.cache\n",
    "def test_utf8(in_str):\n",
    "    return in_str"
   ]
  },
  {
   "cell_type": "code",
   "execution_count": 6,
   "id": "7fa5feba-fc35-43c2-b31a-dac4c52ce7f3",
   "metadata": {},
   "outputs": [
    {
     "data": {
      "text/plain": [
       "b'\\x0c'"
      ]
     },
     "execution_count": 6,
     "metadata": {},
     "output_type": "execute_result"
    }
   ],
   "source": [
    "test_utf8(b'\\x0c')"
   ]
  },
  {
   "cell_type": "code",
   "execution_count": 9,
   "id": "5bd62de2-af89-4d26-ae46-4ab8a8a0955a",
   "metadata": {},
   "outputs": [],
   "source": [
    "from core import compress"
   ]
  },
  {
   "cell_type": "code",
   "execution_count": 17,
   "id": "4dc98eac-0789-4948-b82b-84b689f667b2",
   "metadata": {},
   "outputs": [
    {
     "data": {
      "text/plain": [
       "b'\\x01'"
      ]
     },
     "execution_count": 17,
     "metadata": {},
     "output_type": "execute_result"
    }
   ],
   "source": [
    "bytes(compress.bin_to_utf('01'),'utf8')"
   ]
  },
  {
   "cell_type": "code",
   "execution_count": 23,
   "id": "2ca31add-b639-4713-87b4-03bf8c64d4f0",
   "metadata": {},
   "outputs": [
    {
     "data": {
      "text/plain": [
       "[None, None, None, None]"
      ]
     },
     "execution_count": 23,
     "metadata": {},
     "output_type": "execute_result"
    }
   ],
   "source": [
    "[x.val for x in compress.unsimplify(s,argblind)]"
   ]
  },
  {
   "cell_type": "code",
   "execution_count": 21,
   "id": "dc94cfd8-52a4-4d45-b6d7-68f57e198fbb",
   "metadata": {},
   "outputs": [
    {
     "ename": "TypeError",
     "evalue": "descriptor '__repr__' of 'int' object needs an argument",
     "output_type": "error",
     "traceback": [
      "\u001b[0;31m---------------------------------------------------------------------------\u001b[0m",
      "\u001b[0;31mTypeError\u001b[0m                                 Traceback (most recent call last)",
      "Cell \u001b[0;32mIn [21], line 1\u001b[0m\n\u001b[0;32m----> 1\u001b[0m \u001b[38;5;28;43mtype\u001b[39;49m\u001b[43m(\u001b[49m\u001b[38;5;241;43m1\u001b[39;49m\u001b[43m)\u001b[49m\u001b[38;5;241;43m.\u001b[39;49m\u001b[38;5;21;43m__repr__\u001b[39;49m\u001b[43m(\u001b[49m\u001b[43m)\u001b[49m\n",
      "\u001b[0;31mTypeError\u001b[0m: descriptor '__repr__' of 'int' object needs an argument"
     ]
    }
   ],
   "source": [
    "type(1)"
   ]
  },
  {
   "cell_type": "code",
   "execution_count": 24,
   "id": "f37e3571-9b86-4242-afc4-740af8e93056",
   "metadata": {},
   "outputs": [
    {
     "data": {
      "text/plain": [
       "1"
      ]
     },
     "execution_count": 24,
     "metadata": {},
     "output_type": "execute_result"
    }
   ],
   "source": [
    "int(True)"
   ]
  },
  {
   "cell_type": "code",
   "execution_count": 25,
   "id": "cb654b08-8a19-4ede-b07b-b451b0255b64",
   "metadata": {},
   "outputs": [
    {
     "ename": "NameError",
     "evalue": "name 'dsim' is not defined",
     "output_type": "error",
     "traceback": [
      "\u001b[0;31m---------------------------------------------------------------------------\u001b[0m",
      "\u001b[0;31mNameError\u001b[0m                                 Traceback (most recent call last)",
      "Cell \u001b[0;32mIn [25], line 1\u001b[0m\n\u001b[0;32m----> 1\u001b[0m \u001b[43mdsim\u001b[49m\n",
      "\u001b[0;31mNameError\u001b[0m: name 'dsim' is not defined"
     ]
    }
   ],
   "source": [
    "dsim"
   ]
  },
  {
   "cell_type": "code",
   "execution_count": 34,
   "id": "9f900b44-aa99-42bd-b10f-f99b373242db",
   "metadata": {},
   "outputs": [],
   "source": [
    "a = {'a':1,'b':2}\n",
    "b = list(a.values())\n",
    "a1, a2, *other = b"
   ]
  },
  {
   "cell_type": "code",
   "execution_count": 41,
   "id": "036c140a-7627-4db0-b75d-6ac110ba9ac6",
   "metadata": {},
   "outputs": [],
   "source": [
    "a = locals()"
   ]
  },
  {
   "cell_type": "code",
   "execution_count": 46,
   "id": "77726e45-920a-4c14-971e-f0ce754c6081",
   "metadata": {},
   "outputs": [],
   "source": [
    "from types import SimpleNamespace\n",
    "ns = SimpleNamespace(**a)"
   ]
  },
  {
   "cell_type": "code",
   "execution_count": 56,
   "id": "0357ccfe-2f4a-49b1-af95-73239aee70f2",
   "metadata": {},
   "outputs": [],
   "source": [
    "import inspect\n",
    "def tmp(a,b,c):\n",
    "    args,_,_,values = inspect.getargvalues(inspect.currentframe())\n",
    "    \n",
    "    return values\n",
    "ns = SimpleNamespace(**tmp(1,2,3))"
   ]
  },
  {
   "cell_type": "code",
   "execution_count": 57,
   "id": "24a4f50a-2ddb-4bd3-883b-a99da4cfc6fa",
   "metadata": {},
   "outputs": [
    {
     "data": {
      "text/plain": [
       "1"
      ]
     },
     "execution_count": 57,
     "metadata": {},
     "output_type": "execute_result"
    }
   ],
   "source": [
    "ns.a"
   ]
  },
  {
   "cell_type": "code",
   "execution_count": null,
   "id": "49916ca3-bdf4-4bdd-ac40-31045a1a9662",
   "metadata": {},
   "outputs": [],
   "source": []
  }
 ],
 "metadata": {
  "kernelspec": {
   "display_name": "birdy",
   "language": "python",
   "name": "birdy"
  },
  "language_info": {
   "codemirror_mode": {
    "name": "ipython",
    "version": 3
   },
   "file_extension": ".py",
   "mimetype": "text/x-python",
   "name": "python",
   "nbconvert_exporter": "python",
   "pygments_lexer": "ipython3",
   "version": "3.8.15"
  }
 },
 "nbformat": 4,
 "nbformat_minor": 5
}
